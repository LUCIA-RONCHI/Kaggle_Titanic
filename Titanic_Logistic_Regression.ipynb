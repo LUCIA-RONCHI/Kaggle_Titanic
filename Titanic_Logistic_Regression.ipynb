{
 "cells": [
  {
   "cell_type": "markdown",
   "metadata": {},
   "source": [
    "## Importing necessary libraries"
   ]
  },
  {
   "cell_type": "code",
   "execution_count": 47,
   "metadata": {},
   "outputs": [],
   "source": [
    "import pandas as pd\n",
    "import numpy as np\n",
    "import matplotlib.pyplot as plt\n",
    "from sklearn.preprocessing import LabelEncoder\n",
    "from sklearn import model_selection\n",
    "import statsmodels.api as sm\n",
    "import statsmodels.formula.api as smf\n",
    "from sklearn import metrics"
   ]
  },
  {
   "cell_type": "markdown",
   "metadata": {},
   "source": [
    "## Importing dataset"
   ]
  },
  {
   "cell_type": "code",
   "execution_count": 11,
   "metadata": {},
   "outputs": [],
   "source": [
    "# Read Train and Test datasets combined in the EDA, that already contain missing value imputations\n",
    "raw_combined = pd.read_csv(\"../Data/raw_combined.csv\", index_col = 0)"
   ]
  },
  {
   "cell_type": "code",
   "execution_count": 15,
   "metadata": {},
   "outputs": [
    {
     "data": {
      "text/html": [
       "<div>\n",
       "<style scoped>\n",
       "    .dataframe tbody tr th:only-of-type {\n",
       "        vertical-align: middle;\n",
       "    }\n",
       "\n",
       "    .dataframe tbody tr th {\n",
       "        vertical-align: top;\n",
       "    }\n",
       "\n",
       "    .dataframe thead th {\n",
       "        text-align: right;\n",
       "    }\n",
       "</style>\n",
       "<table border=\"1\" class=\"dataframe\">\n",
       "  <thead>\n",
       "    <tr style=\"text-align: right;\">\n",
       "      <th></th>\n",
       "      <th>Age</th>\n",
       "      <th>Cabin</th>\n",
       "      <th>Embarked</th>\n",
       "      <th>Fare</th>\n",
       "      <th>Name</th>\n",
       "      <th>Parch</th>\n",
       "      <th>PassengerId</th>\n",
       "      <th>Pclass</th>\n",
       "      <th>Sex</th>\n",
       "      <th>SibSp</th>\n",
       "      <th>Survived</th>\n",
       "      <th>Ticket</th>\n",
       "      <th>Train</th>\n",
       "    </tr>\n",
       "  </thead>\n",
       "  <tbody>\n",
       "    <tr>\n",
       "      <td>0</td>\n",
       "      <td>22.0</td>\n",
       "      <td>NO</td>\n",
       "      <td>S</td>\n",
       "      <td>7.2500</td>\n",
       "      <td>Braund, Mr. Owen Harris</td>\n",
       "      <td>0</td>\n",
       "      <td>1</td>\n",
       "      <td>3</td>\n",
       "      <td>male</td>\n",
       "      <td>1</td>\n",
       "      <td>0.0</td>\n",
       "      <td>A/5 21171</td>\n",
       "      <td>1</td>\n",
       "    </tr>\n",
       "    <tr>\n",
       "      <td>1</td>\n",
       "      <td>38.0</td>\n",
       "      <td>C85</td>\n",
       "      <td>C</td>\n",
       "      <td>71.2833</td>\n",
       "      <td>Cumings, Mrs. John Bradley (Florence Briggs Th...</td>\n",
       "      <td>0</td>\n",
       "      <td>2</td>\n",
       "      <td>1</td>\n",
       "      <td>female</td>\n",
       "      <td>1</td>\n",
       "      <td>1.0</td>\n",
       "      <td>PC 17599</td>\n",
       "      <td>1</td>\n",
       "    </tr>\n",
       "    <tr>\n",
       "      <td>2</td>\n",
       "      <td>26.0</td>\n",
       "      <td>NO</td>\n",
       "      <td>S</td>\n",
       "      <td>7.9250</td>\n",
       "      <td>Heikkinen, Miss. Laina</td>\n",
       "      <td>0</td>\n",
       "      <td>3</td>\n",
       "      <td>3</td>\n",
       "      <td>female</td>\n",
       "      <td>0</td>\n",
       "      <td>1.0</td>\n",
       "      <td>STON/O2. 3101282</td>\n",
       "      <td>1</td>\n",
       "    </tr>\n",
       "    <tr>\n",
       "      <td>3</td>\n",
       "      <td>35.0</td>\n",
       "      <td>C123</td>\n",
       "      <td>S</td>\n",
       "      <td>53.1000</td>\n",
       "      <td>Futrelle, Mrs. Jacques Heath (Lily May Peel)</td>\n",
       "      <td>0</td>\n",
       "      <td>4</td>\n",
       "      <td>1</td>\n",
       "      <td>female</td>\n",
       "      <td>1</td>\n",
       "      <td>1.0</td>\n",
       "      <td>113803</td>\n",
       "      <td>1</td>\n",
       "    </tr>\n",
       "    <tr>\n",
       "      <td>4</td>\n",
       "      <td>35.0</td>\n",
       "      <td>NO</td>\n",
       "      <td>S</td>\n",
       "      <td>8.0500</td>\n",
       "      <td>Allen, Mr. William Henry</td>\n",
       "      <td>0</td>\n",
       "      <td>5</td>\n",
       "      <td>3</td>\n",
       "      <td>male</td>\n",
       "      <td>0</td>\n",
       "      <td>0.0</td>\n",
       "      <td>373450</td>\n",
       "      <td>1</td>\n",
       "    </tr>\n",
       "  </tbody>\n",
       "</table>\n",
       "</div>"
      ],
      "text/plain": [
       "    Age Cabin Embarked     Fare  \\\n",
       "0  22.0    NO        S   7.2500   \n",
       "1  38.0   C85        C  71.2833   \n",
       "2  26.0    NO        S   7.9250   \n",
       "3  35.0  C123        S  53.1000   \n",
       "4  35.0    NO        S   8.0500   \n",
       "\n",
       "                                                Name  Parch  PassengerId  \\\n",
       "0                            Braund, Mr. Owen Harris      0            1   \n",
       "1  Cumings, Mrs. John Bradley (Florence Briggs Th...      0            2   \n",
       "2                             Heikkinen, Miss. Laina      0            3   \n",
       "3       Futrelle, Mrs. Jacques Heath (Lily May Peel)      0            4   \n",
       "4                           Allen, Mr. William Henry      0            5   \n",
       "\n",
       "   Pclass     Sex  SibSp  Survived            Ticket  Train  \n",
       "0       3    male      1       0.0         A/5 21171      1  \n",
       "1       1  female      1       1.0          PC 17599      1  \n",
       "2       3  female      0       1.0  STON/O2. 3101282      1  \n",
       "3       1  female      1       1.0            113803      1  \n",
       "4       3    male      0       0.0            373450      1  "
      ]
     },
     "execution_count": 15,
     "metadata": {},
     "output_type": "execute_result"
    }
   ],
   "source": [
    "# Explore dataset\n",
    "raw_combined[:5]"
   ]
  },
  {
   "cell_type": "markdown",
   "metadata": {},
   "source": [
    "## Selecting predictors and target variable"
   ]
  },
  {
   "cell_type": "code",
   "execution_count": 18,
   "metadata": {},
   "outputs": [],
   "source": [
    "# Select possible predictors and target variable\n",
    "predictors = [\"Age\", \"Cabin\", \"Embarked\", \"Fare\", \"Parch\", \"Pclass\", \"Sex\", \"SibSp\"]\n",
    "target = [\"Survived\"]"
   ]
  },
  {
   "cell_type": "markdown",
   "metadata": {},
   "source": [
    "## Encoding categorical variables"
   ]
  },
  {
   "cell_type": "code",
   "execution_count": 20,
   "metadata": {},
   "outputs": [
    {
     "data": {
      "text/plain": [
       "Age         float64\n",
       "Cabin        object\n",
       "Embarked     object\n",
       "Fare        float64\n",
       "Parch         int64\n",
       "Pclass        int64\n",
       "Sex          object\n",
       "SibSp         int64\n",
       "dtype: object"
      ]
     },
     "execution_count": 20,
     "metadata": {},
     "output_type": "execute_result"
    }
   ],
   "source": [
    "# To feed variables to a Logistic Regression Model, we need to encode categorical variables\n",
    "raw_combined[predictors].dtypes"
   ]
  },
  {
   "cell_type": "code",
   "execution_count": 21,
   "metadata": {},
   "outputs": [],
   "source": [
    "# Generate dataframe only with predictors\n",
    "label_df = raw_combined[predictors]"
   ]
  },
  {
   "cell_type": "code",
   "execution_count": 23,
   "metadata": {},
   "outputs": [],
   "source": [
    "# Initialize label encoder\n",
    "label_encoder = LabelEncoder()"
   ]
  },
  {
   "cell_type": "code",
   "execution_count": 24,
   "metadata": {},
   "outputs": [
    {
     "name": "stderr",
     "output_type": "stream",
     "text": [
      "/Users/luciaronchi/opt/anaconda3/lib/python3.7/site-packages/ipykernel_launcher.py:6: SettingWithCopyWarning: \n",
      "A value is trying to be set on a copy of a slice from a DataFrame.\n",
      "Try using .loc[row_indexer,col_indexer] = value instead\n",
      "\n",
      "See the caveats in the documentation: http://pandas.pydata.org/pandas-docs/stable/user_guide/indexing.html#returning-a-view-versus-a-copy\n",
      "  \n"
     ]
    }
   ],
   "source": [
    "# Encode only categorical variables\n",
    "for i, col in enumerate(label_df):\n",
    "    # If a given column is categorical\n",
    "    if label_df[col].dtype == 'object':\n",
    "        # Encode that column with fit_transform\n",
    "        label_df[col] = label_encoder.fit_transform(label_df[col])"
   ]
  },
  {
   "cell_type": "code",
   "execution_count": 25,
   "metadata": {},
   "outputs": [
    {
     "data": {
      "text/html": [
       "<div>\n",
       "<style scoped>\n",
       "    .dataframe tbody tr th:only-of-type {\n",
       "        vertical-align: middle;\n",
       "    }\n",
       "\n",
       "    .dataframe tbody tr th {\n",
       "        vertical-align: top;\n",
       "    }\n",
       "\n",
       "    .dataframe thead th {\n",
       "        text-align: right;\n",
       "    }\n",
       "</style>\n",
       "<table border=\"1\" class=\"dataframe\">\n",
       "  <thead>\n",
       "    <tr style=\"text-align: right;\">\n",
       "      <th></th>\n",
       "      <th>Age</th>\n",
       "      <th>Cabin</th>\n",
       "      <th>Embarked</th>\n",
       "      <th>Fare</th>\n",
       "      <th>Parch</th>\n",
       "      <th>Pclass</th>\n",
       "      <th>Sex</th>\n",
       "      <th>SibSp</th>\n",
       "    </tr>\n",
       "  </thead>\n",
       "  <tbody>\n",
       "    <tr>\n",
       "      <td>0</td>\n",
       "      <td>22.0</td>\n",
       "      <td>185</td>\n",
       "      <td>3</td>\n",
       "      <td>7.2500</td>\n",
       "      <td>0</td>\n",
       "      <td>3</td>\n",
       "      <td>1</td>\n",
       "      <td>1</td>\n",
       "    </tr>\n",
       "    <tr>\n",
       "      <td>1</td>\n",
       "      <td>38.0</td>\n",
       "      <td>106</td>\n",
       "      <td>0</td>\n",
       "      <td>71.2833</td>\n",
       "      <td>0</td>\n",
       "      <td>1</td>\n",
       "      <td>0</td>\n",
       "      <td>1</td>\n",
       "    </tr>\n",
       "    <tr>\n",
       "      <td>2</td>\n",
       "      <td>26.0</td>\n",
       "      <td>185</td>\n",
       "      <td>3</td>\n",
       "      <td>7.9250</td>\n",
       "      <td>0</td>\n",
       "      <td>3</td>\n",
       "      <td>0</td>\n",
       "      <td>0</td>\n",
       "    </tr>\n",
       "    <tr>\n",
       "      <td>3</td>\n",
       "      <td>35.0</td>\n",
       "      <td>70</td>\n",
       "      <td>3</td>\n",
       "      <td>53.1000</td>\n",
       "      <td>0</td>\n",
       "      <td>1</td>\n",
       "      <td>0</td>\n",
       "      <td>1</td>\n",
       "    </tr>\n",
       "    <tr>\n",
       "      <td>4</td>\n",
       "      <td>35.0</td>\n",
       "      <td>185</td>\n",
       "      <td>3</td>\n",
       "      <td>8.0500</td>\n",
       "      <td>0</td>\n",
       "      <td>3</td>\n",
       "      <td>1</td>\n",
       "      <td>0</td>\n",
       "    </tr>\n",
       "    <tr>\n",
       "      <td>...</td>\n",
       "      <td>...</td>\n",
       "      <td>...</td>\n",
       "      <td>...</td>\n",
       "      <td>...</td>\n",
       "      <td>...</td>\n",
       "      <td>...</td>\n",
       "      <td>...</td>\n",
       "      <td>...</td>\n",
       "    </tr>\n",
       "    <tr>\n",
       "      <td>413</td>\n",
       "      <td>28.0</td>\n",
       "      <td>185</td>\n",
       "      <td>3</td>\n",
       "      <td>8.0500</td>\n",
       "      <td>0</td>\n",
       "      <td>3</td>\n",
       "      <td>1</td>\n",
       "      <td>0</td>\n",
       "    </tr>\n",
       "    <tr>\n",
       "      <td>414</td>\n",
       "      <td>39.0</td>\n",
       "      <td>64</td>\n",
       "      <td>0</td>\n",
       "      <td>108.9000</td>\n",
       "      <td>0</td>\n",
       "      <td>1</td>\n",
       "      <td>0</td>\n",
       "      <td>0</td>\n",
       "    </tr>\n",
       "    <tr>\n",
       "      <td>415</td>\n",
       "      <td>38.5</td>\n",
       "      <td>185</td>\n",
       "      <td>3</td>\n",
       "      <td>7.2500</td>\n",
       "      <td>0</td>\n",
       "      <td>3</td>\n",
       "      <td>1</td>\n",
       "      <td>0</td>\n",
       "    </tr>\n",
       "    <tr>\n",
       "      <td>416</td>\n",
       "      <td>28.0</td>\n",
       "      <td>185</td>\n",
       "      <td>3</td>\n",
       "      <td>8.0500</td>\n",
       "      <td>0</td>\n",
       "      <td>3</td>\n",
       "      <td>1</td>\n",
       "      <td>0</td>\n",
       "    </tr>\n",
       "    <tr>\n",
       "      <td>417</td>\n",
       "      <td>28.0</td>\n",
       "      <td>185</td>\n",
       "      <td>0</td>\n",
       "      <td>22.3583</td>\n",
       "      <td>1</td>\n",
       "      <td>3</td>\n",
       "      <td>1</td>\n",
       "      <td>1</td>\n",
       "    </tr>\n",
       "  </tbody>\n",
       "</table>\n",
       "<p>1309 rows × 8 columns</p>\n",
       "</div>"
      ],
      "text/plain": [
       "      Age  Cabin  Embarked      Fare  Parch  Pclass  Sex  SibSp\n",
       "0    22.0    185         3    7.2500      0       3    1      1\n",
       "1    38.0    106         0   71.2833      0       1    0      1\n",
       "2    26.0    185         3    7.9250      0       3    0      0\n",
       "3    35.0     70         3   53.1000      0       1    0      1\n",
       "4    35.0    185         3    8.0500      0       3    1      0\n",
       "..    ...    ...       ...       ...    ...     ...  ...    ...\n",
       "413  28.0    185         3    8.0500      0       3    1      0\n",
       "414  39.0     64         0  108.9000      0       1    0      0\n",
       "415  38.5    185         3    7.2500      0       3    1      0\n",
       "416  28.0    185         3    8.0500      0       3    1      0\n",
       "417  28.0    185         0   22.3583      1       3    1      1\n",
       "\n",
       "[1309 rows x 8 columns]"
      ]
     },
     "execution_count": 25,
     "metadata": {},
     "output_type": "execute_result"
    }
   ],
   "source": [
    "# Explore resulting df\n",
    "label_df"
   ]
  },
  {
   "cell_type": "markdown",
   "metadata": {},
   "source": [
    "## Splitting into Train and Test"
   ]
  },
  {
   "cell_type": "code",
   "execution_count": 29,
   "metadata": {},
   "outputs": [],
   "source": [
    "# Create new train and test sample, within Train sample\n",
    "x_train, x_test, y_train, y_test = model_selection.train_test_split(label_df.loc[raw_combined[\"Train\"] == 1,], \n",
    "                                                                    raw_combined.loc[raw_combined[\"Train\"] == 1, \"Survived\"], \n",
    "                                                                    test_size = 0.2, \n",
    "                                                                    random_state = 232323)"
   ]
  },
  {
   "cell_type": "markdown",
   "metadata": {},
   "source": [
    "## Modelling"
   ]
  },
  {
   "cell_type": "code",
   "execution_count": 31,
   "metadata": {},
   "outputs": [
    {
     "data": {
      "text/plain": [
       "['Age', 'Cabin', 'Embarked', 'Fare', 'Parch', 'Pclass', 'Sex', 'SibSp']"
      ]
     },
     "execution_count": 31,
     "metadata": {},
     "output_type": "execute_result"
    }
   ],
   "source": [
    "predictors"
   ]
  },
  {
   "cell_type": "markdown",
   "metadata": {},
   "source": [
    "### Full Model"
   ]
  },
  {
   "cell_type": "code",
   "execution_count": 43,
   "metadata": {
    "scrolled": true
   },
   "outputs": [],
   "source": [
    "# Initialize Logistic Regression model\n",
    "log_reg = smf.ols(formula = 'Survived ~ Age + Cabin + Embarked + Fare + Parch + Pclass + Sex + SibSp', \n",
    "                data = pd.concat([y_train, x_train], axis=1))\n",
    "# Fit Logistic Regression\n",
    "log_reg_fit = log_reg.fit()"
   ]
  },
  {
   "cell_type": "code",
   "execution_count": 44,
   "metadata": {},
   "outputs": [
    {
     "name": "stdout",
     "output_type": "stream",
     "text": [
      "                            OLS Regression Results                            \n",
      "==============================================================================\n",
      "Dep. Variable:               Survived   R-squared:                       0.403\n",
      "Model:                            OLS   Adj. R-squared:                  0.396\n",
      "Method:                 Least Squares   F-statistic:                     59.20\n",
      "Date:                Tue, 07 Apr 2020   Prob (F-statistic):           1.16e-73\n",
      "Time:                        15:25:25   Log-Likelihood:                -316.80\n",
      "No. Observations:                 712   AIC:                             651.6\n",
      "Df Residuals:                     703   BIC:                             692.7\n",
      "Df Model:                           8                                         \n",
      "Covariance Type:            nonrobust                                         \n",
      "==============================================================================\n",
      "                 coef    std err          t      P>|t|      [0.025      0.975]\n",
      "------------------------------------------------------------------------------\n",
      "Intercept      1.3725      0.094     14.658      0.000       1.189       1.556\n",
      "Age           -0.0061      0.001     -5.027      0.000      -0.009      -0.004\n",
      "Cabin      -4.913e-05      0.000     -0.107      0.915      -0.001       0.001\n",
      "Embarked      -0.0198      0.013     -1.550      0.122      -0.045       0.005\n",
      "Fare           0.0003      0.000      0.921      0.358      -0.000       0.001\n",
      "Parch         -0.0067      0.020     -0.328      0.743      -0.047       0.033\n",
      "Pclass        -0.1778      0.026     -6.882      0.000      -0.229      -0.127\n",
      "Sex           -0.4992      0.031    -16.063      0.000      -0.560      -0.438\n",
      "SibSp         -0.0413      0.015     -2.765      0.006      -0.071      -0.012\n",
      "==============================================================================\n",
      "Omnibus:                       30.738   Durbin-Watson:                   2.186\n",
      "Prob(Omnibus):                  0.000   Jarque-Bera (JB):               33.857\n",
      "Skew:                           0.533   Prob(JB):                     4.45e-08\n",
      "Kurtosis:                       3.060   Cond. No.                     1.16e+03\n",
      "==============================================================================\n",
      "\n",
      "Warnings:\n",
      "[1] Standard Errors assume that the covariance matrix of the errors is correctly specified.\n",
      "[2] The condition number is large, 1.16e+03. This might indicate that there are\n",
      "strong multicollinearity or other numerical problems.\n"
     ]
    }
   ],
   "source": [
    "print(log_reg_fit.summary())"
   ]
  },
  {
   "cell_type": "markdown",
   "metadata": {},
   "source": [
    "**Obervations:**\n",
    "* This first, full model shows a very low R-squared (0.403)\n",
    "* Several variables appear to be insignificant to the model (high p value), such as Cabin, Embarked, Fare, and Parch"
   ]
  },
  {
   "cell_type": "markdown",
   "metadata": {},
   "source": [
    "#### Evaluating the model in Train Set"
   ]
  },
  {
   "cell_type": "code",
   "execution_count": 52,
   "metadata": {},
   "outputs": [
    {
     "name": "stdout",
     "output_type": "stream",
     "text": [
      "              precision    recall  f1-score   support\n",
      "\n",
      "         0.0       0.82      0.86      0.84       432\n",
      "         1.0       0.76      0.71      0.74       280\n",
      "\n",
      "    accuracy                           0.80       712\n",
      "   macro avg       0.79      0.78      0.79       712\n",
      "weighted avg       0.80      0.80      0.80       712\n",
      "\n"
     ]
    }
   ],
   "source": [
    "# Predict values on Train\n",
    "y_hat_train = log_reg_fit.predict(x_train)\n",
    "# Convert predictions into zeros and ones\n",
    "y_hat_train[y_hat_train < 0.5] = 0\n",
    "y_hat_train[y_hat_train >= 0.5] = 1\n",
    "# Print classification Report for Train Set\n",
    "print(metrics.classification_report(y_train, y_hat_train))"
   ]
  },
  {
   "cell_type": "markdown",
   "metadata": {},
   "source": [
    "#### Evaluating the model in Test"
   ]
  },
  {
   "cell_type": "code",
   "execution_count": 53,
   "metadata": {},
   "outputs": [
    {
     "name": "stdout",
     "output_type": "stream",
     "text": [
      "              precision    recall  f1-score   support\n",
      "\n",
      "         0.0       0.85      0.85      0.85       117\n",
      "         1.0       0.71      0.71      0.71        62\n",
      "\n",
      "    accuracy                           0.80       179\n",
      "   macro avg       0.78      0.78      0.78       179\n",
      "weighted avg       0.80      0.80      0.80       179\n",
      "\n"
     ]
    }
   ],
   "source": [
    "# Predict values on Test\n",
    "y_hat_test = log_reg_fit.predict(x_test)\n",
    "# Convert predictions into zeros and ones\n",
    "y_hat_test[y_hat_test < 0.5] = 0\n",
    "y_hat_test[y_hat_test >= 0.5] = 1\n",
    "# Print classification Report for Test Set\n",
    "print(metrics.classification_report(y_test, y_hat_test))"
   ]
  },
  {
   "cell_type": "markdown",
   "metadata": {},
   "source": [
    "### Removing Cabin from predictors"
   ]
  },
  {
   "cell_type": "code",
   "execution_count": 57,
   "metadata": {},
   "outputs": [
    {
     "name": "stdout",
     "output_type": "stream",
     "text": [
      "                            OLS Regression Results                            \n",
      "==============================================================================\n",
      "Dep. Variable:               Survived   R-squared:                       0.403\n",
      "Model:                            OLS   Adj. R-squared:                  0.397\n",
      "Method:                 Least Squares   F-statistic:                     67.75\n",
      "Date:                Tue, 07 Apr 2020   Prob (F-statistic):           1.36e-74\n",
      "Time:                        15:32:05   Log-Likelihood:                -316.81\n",
      "No. Observations:                 712   AIC:                             649.6\n",
      "Df Residuals:                     704   BIC:                             686.2\n",
      "Df Model:                           7                                         \n",
      "Covariance Type:            nonrobust                                         \n",
      "==============================================================================\n",
      "                 coef    std err          t      P>|t|      [0.025      0.975]\n",
      "------------------------------------------------------------------------------\n",
      "Intercept      1.3677      0.082     16.676      0.000       1.207       1.529\n",
      "Age           -0.0061      0.001     -5.029      0.000      -0.008      -0.004\n",
      "Embarked      -0.0200      0.013     -1.572      0.116      -0.045       0.005\n",
      "Fare           0.0003      0.000      0.956      0.339      -0.000       0.001\n",
      "Parch         -0.0066      0.020     -0.325      0.746      -0.047       0.033\n",
      "Pclass        -0.1793      0.022     -8.126      0.000      -0.223      -0.136\n",
      "Sex           -0.4991      0.031    -16.079      0.000      -0.560      -0.438\n",
      "SibSp         -0.0414      0.015     -2.774      0.006      -0.071      -0.012\n",
      "==============================================================================\n",
      "Omnibus:                       30.793   Durbin-Watson:                   2.187\n",
      "Prob(Omnibus):                  0.000   Jarque-Bera (JB):               33.925\n",
      "Skew:                           0.534   Prob(JB):                     4.30e-08\n",
      "Kurtosis:                       3.060   Cond. No.                         377.\n",
      "==============================================================================\n",
      "\n",
      "Warnings:\n",
      "[1] Standard Errors assume that the covariance matrix of the errors is correctly specified.\n"
     ]
    }
   ],
   "source": [
    "# Initialize Logistic Regression model\n",
    "log_reg = smf.ols(formula = 'Survived ~ Age + Embarked + Fare + Parch + Pclass + Sex + SibSp', \n",
    "                data = pd.concat([y_train, x_train], axis=1))\n",
    "# Fit Logistic Regression\n",
    "log_reg_fit = log_reg.fit()\n",
    "print(log_reg_fit.summary())"
   ]
  },
  {
   "cell_type": "markdown",
   "metadata": {},
   "source": [
    "**Observations:**\n",
    "* AIC dropped, meaning this is a better model than the last one\n",
    "* But R squared is still very low"
   ]
  },
  {
   "cell_type": "markdown",
   "metadata": {},
   "source": [
    "#### Evaluating the model in Train Set"
   ]
  },
  {
   "cell_type": "code",
   "execution_count": 58,
   "metadata": {},
   "outputs": [
    {
     "name": "stdout",
     "output_type": "stream",
     "text": [
      "              precision    recall  f1-score   support\n",
      "\n",
      "         0.0       0.82      0.86      0.84       432\n",
      "         1.0       0.76      0.71      0.74       280\n",
      "\n",
      "    accuracy                           0.80       712\n",
      "   macro avg       0.79      0.78      0.79       712\n",
      "weighted avg       0.80      0.80      0.80       712\n",
      "\n"
     ]
    }
   ],
   "source": [
    "# Predict values on Train\n",
    "y_hat_train = log_reg_fit.predict(x_train)\n",
    "# Convert predictions into zeros and ones\n",
    "y_hat_train[y_hat_train < 0.5] = 0\n",
    "y_hat_train[y_hat_train >= 0.5] = 1\n",
    "# Print classification Report for Train Set\n",
    "print(metrics.classification_report(y_train, y_hat_train))"
   ]
  },
  {
   "cell_type": "markdown",
   "metadata": {},
   "source": [
    "#### Evaluating the model in Test Set"
   ]
  },
  {
   "cell_type": "code",
   "execution_count": 59,
   "metadata": {},
   "outputs": [
    {
     "name": "stdout",
     "output_type": "stream",
     "text": [
      "              precision    recall  f1-score   support\n",
      "\n",
      "         0.0       0.85      0.85      0.85       117\n",
      "         1.0       0.71      0.71      0.71        62\n",
      "\n",
      "    accuracy                           0.80       179\n",
      "   macro avg       0.78      0.78      0.78       179\n",
      "weighted avg       0.80      0.80      0.80       179\n",
      "\n"
     ]
    }
   ],
   "source": [
    "# Predict values on Test\n",
    "y_hat_test = log_reg_fit.predict(x_test)\n",
    "# Convert predictions into zeros and ones\n",
    "y_hat_test[y_hat_test < 0.5] = 0\n",
    "y_hat_test[y_hat_test >= 0.5] = 1\n",
    "# Print classification Report for Test Set\n",
    "print(metrics.classification_report(y_test, y_hat_test))"
   ]
  },
  {
   "cell_type": "markdown",
   "metadata": {},
   "source": [
    "### Removing Parch from predictor"
   ]
  },
  {
   "cell_type": "code",
   "execution_count": 60,
   "metadata": {},
   "outputs": [
    {
     "name": "stdout",
     "output_type": "stream",
     "text": [
      "                            OLS Regression Results                            \n",
      "==============================================================================\n",
      "Dep. Variable:               Survived   R-squared:                       0.402\n",
      "Model:                            OLS   Adj. R-squared:                  0.397\n",
      "Method:                 Least Squares   F-statistic:                     79.13\n",
      "Date:                Tue, 07 Apr 2020   Prob (F-statistic):           1.54e-75\n",
      "Time:                        15:32:27   Log-Likelihood:                -316.86\n",
      "No. Observations:                 712   AIC:                             647.7\n",
      "Df Residuals:                     705   BIC:                             679.7\n",
      "Df Model:                           6                                         \n",
      "Covariance Type:            nonrobust                                         \n",
      "==============================================================================\n",
      "                 coef    std err          t      P>|t|      [0.025      0.975]\n",
      "------------------------------------------------------------------------------\n",
      "Intercept      1.3656      0.082     16.710      0.000       1.205       1.526\n",
      "Age           -0.0061      0.001     -5.024      0.000      -0.008      -0.004\n",
      "Embarked      -0.0202      0.013     -1.594      0.111      -0.045       0.005\n",
      "Fare           0.0003      0.000      0.918      0.359      -0.000       0.001\n",
      "Pclass        -0.1797      0.022     -8.161      0.000      -0.223      -0.136\n",
      "Sex           -0.4971      0.030    -16.353      0.000      -0.557      -0.437\n",
      "SibSp         -0.0430      0.014     -3.065      0.002      -0.071      -0.015\n",
      "==============================================================================\n",
      "Omnibus:                       30.494   Durbin-Watson:                   2.185\n",
      "Prob(Omnibus):                  0.000   Jarque-Bera (JB):               33.552\n",
      "Skew:                           0.531   Prob(JB):                     5.18e-08\n",
      "Kurtosis:                       3.061   Cond. No.                         376.\n",
      "==============================================================================\n",
      "\n",
      "Warnings:\n",
      "[1] Standard Errors assume that the covariance matrix of the errors is correctly specified.\n"
     ]
    }
   ],
   "source": [
    "# Initialize Logistic Regression model\n",
    "log_reg = smf.ols(formula = 'Survived ~ Age + Embarked + Fare + Pclass + Sex + SibSp', \n",
    "                data = pd.concat([y_train, x_train], axis=1))\n",
    "# Fit Logistic Regression\n",
    "log_reg_fit = log_reg.fit()\n",
    "print(log_reg_fit.summary())"
   ]
  },
  {
   "cell_type": "markdown",
   "metadata": {},
   "source": [
    "**Observations:**\n",
    "* AIC dropped again, meaning this is a better model than the last one\n",
    "* But R squared also decreased slightly"
   ]
  },
  {
   "cell_type": "markdown",
   "metadata": {},
   "source": [
    "#### Evaluating the model in Train Set"
   ]
  },
  {
   "cell_type": "code",
   "execution_count": 61,
   "metadata": {},
   "outputs": [
    {
     "name": "stdout",
     "output_type": "stream",
     "text": [
      "              precision    recall  f1-score   support\n",
      "\n",
      "         0.0       0.82      0.85      0.84       432\n",
      "         1.0       0.76      0.71      0.74       280\n",
      "\n",
      "    accuracy                           0.80       712\n",
      "   macro avg       0.79      0.78      0.79       712\n",
      "weighted avg       0.80      0.80      0.80       712\n",
      "\n"
     ]
    }
   ],
   "source": [
    "# Predict values on Train\n",
    "y_hat_train = log_reg_fit.predict(x_train)\n",
    "# Convert predictions into zeros and ones\n",
    "y_hat_train[y_hat_train < 0.5] = 0\n",
    "y_hat_train[y_hat_train >= 0.5] = 1\n",
    "# Print classification Report for Train Set\n",
    "print(metrics.classification_report(y_train, y_hat_train))"
   ]
  },
  {
   "cell_type": "markdown",
   "metadata": {},
   "source": [
    "#### Evaluating the model in Test Set"
   ]
  },
  {
   "cell_type": "code",
   "execution_count": 63,
   "metadata": {},
   "outputs": [
    {
     "name": "stdout",
     "output_type": "stream",
     "text": [
      "              precision    recall  f1-score   support\n",
      "\n",
      "         0.0       0.85      0.85      0.85       117\n",
      "         1.0       0.71      0.71      0.71        62\n",
      "\n",
      "    accuracy                           0.80       179\n",
      "   macro avg       0.78      0.78      0.78       179\n",
      "weighted avg       0.80      0.80      0.80       179\n",
      "\n"
     ]
    }
   ],
   "source": [
    "# Predict values on Test\n",
    "y_hat_test = log_reg_fit.predict(x_test)\n",
    "# Convert predictions into zeros and ones\n",
    "y_hat_test[y_hat_test < 0.5] = 0\n",
    "y_hat_test[y_hat_test >= 0.5] = 1\n",
    "# Print classification Report for Test Set\n",
    "print(metrics.classification_report(y_test, y_hat_test))"
   ]
  },
  {
   "cell_type": "markdown",
   "metadata": {},
   "source": [
    "### Removing Fare from predictors"
   ]
  },
  {
   "cell_type": "code",
   "execution_count": 65,
   "metadata": {},
   "outputs": [
    {
     "name": "stdout",
     "output_type": "stream",
     "text": [
      "                            OLS Regression Results                            \n",
      "==============================================================================\n",
      "Dep. Variable:               Survived   R-squared:                       0.402\n",
      "Model:                            OLS   Adj. R-squared:                  0.397\n",
      "Method:                 Least Squares   F-statistic:                     94.81\n",
      "Date:                Tue, 07 Apr 2020   Prob (F-statistic):           2.29e-76\n",
      "Time:                        15:38:56   Log-Likelihood:                -317.29\n",
      "No. Observations:                 712   AIC:                             646.6\n",
      "Df Residuals:                     706   BIC:                             674.0\n",
      "Df Model:                           5                                         \n",
      "Covariance Type:            nonrobust                                         \n",
      "==============================================================================\n",
      "                 coef    std err          t      P>|t|      [0.025      0.975]\n",
      "------------------------------------------------------------------------------\n",
      "Intercept      1.4063      0.069     20.480      0.000       1.271       1.541\n",
      "Age           -0.0061      0.001     -5.068      0.000      -0.008      -0.004\n",
      "Embarked      -0.0225      0.012     -1.804      0.072      -0.047       0.002\n",
      "Pclass        -0.1900      0.019    -10.051      0.000      -0.227      -0.153\n",
      "Sex           -0.4990      0.030    -16.451      0.000      -0.558      -0.439\n",
      "SibSp         -0.0403      0.014     -2.937      0.003      -0.067      -0.013\n",
      "==============================================================================\n",
      "Omnibus:                       30.270   Durbin-Watson:                   2.180\n",
      "Prob(Omnibus):                  0.000   Jarque-Bera (JB):               33.267\n",
      "Skew:                           0.528   Prob(JB):                     5.97e-08\n",
      "Kurtosis:                       3.065   Cond. No.                         158.\n",
      "==============================================================================\n",
      "\n",
      "Warnings:\n",
      "[1] Standard Errors assume that the covariance matrix of the errors is correctly specified.\n"
     ]
    }
   ],
   "source": [
    "# Initialize Logistic Regression model\n",
    "log_reg = smf.ols(formula = 'Survived ~ Age + Embarked + Pclass + Sex + SibSp', \n",
    "                data = pd.concat([y_train, x_train], axis=1))\n",
    "# Fit Logistic Regression\n",
    "log_reg_fit = log_reg.fit()\n",
    "print(log_reg_fit.summary())"
   ]
  },
  {
   "cell_type": "markdown",
   "metadata": {},
   "source": [
    "**Observations:**\n",
    "* AIC dropped again, meaning this is a better model than the last one\n",
    "* But R squared also decreased slightly"
   ]
  },
  {
   "cell_type": "markdown",
   "metadata": {},
   "source": [
    "#### Evaluating the model in Train"
   ]
  },
  {
   "cell_type": "code",
   "execution_count": 66,
   "metadata": {},
   "outputs": [
    {
     "name": "stdout",
     "output_type": "stream",
     "text": [
      "              precision    recall  f1-score   support\n",
      "\n",
      "         0.0       0.82      0.86      0.84       432\n",
      "         1.0       0.76      0.71      0.74       280\n",
      "\n",
      "    accuracy                           0.80       712\n",
      "   macro avg       0.79      0.78      0.79       712\n",
      "weighted avg       0.80      0.80      0.80       712\n",
      "\n"
     ]
    }
   ],
   "source": [
    "# Predict values on Train\n",
    "y_hat_train = log_reg_fit.predict(x_train)\n",
    "# Convert predictions into zeros and ones\n",
    "y_hat_train[y_hat_train < 0.5] = 0\n",
    "y_hat_train[y_hat_train >= 0.5] = 1\n",
    "# Print classification Report for Train Set\n",
    "print(metrics.classification_report(y_train, y_hat_train))"
   ]
  },
  {
   "cell_type": "markdown",
   "metadata": {},
   "source": [
    "### Evaluating the model in Test"
   ]
  },
  {
   "cell_type": "code",
   "execution_count": 68,
   "metadata": {},
   "outputs": [
    {
     "name": "stdout",
     "output_type": "stream",
     "text": [
      "              precision    recall  f1-score   support\n",
      "\n",
      "         0.0       0.85      0.85      0.85       117\n",
      "         1.0       0.71      0.73      0.72        62\n",
      "\n",
      "    accuracy                           0.80       179\n",
      "   macro avg       0.78      0.79      0.78       179\n",
      "weighted avg       0.81      0.80      0.80       179\n",
      "\n"
     ]
    }
   ],
   "source": [
    "# Predict values on Test\n",
    "y_hat_test = log_reg_fit.predict(x_test)\n",
    "# Convert predictions into zeros and ones\n",
    "y_hat_test[y_hat_test < 0.5] = 0\n",
    "y_hat_test[y_hat_test >= 0.5] = 1\n",
    "# Print classification Report for Test Set\n",
    "print(metrics.classification_report(y_test, y_hat_test))"
   ]
  },
  {
   "cell_type": "markdown",
   "metadata": {},
   "source": [
    "### Removing Embarked from predictors"
   ]
  },
  {
   "cell_type": "code",
   "execution_count": 69,
   "metadata": {},
   "outputs": [
    {
     "name": "stdout",
     "output_type": "stream",
     "text": [
      "                            OLS Regression Results                            \n",
      "==============================================================================\n",
      "Dep. Variable:               Survived   R-squared:                       0.399\n",
      "Model:                            OLS   Adj. R-squared:                  0.396\n",
      "Method:                 Least Squares   F-statistic:                     117.3\n",
      "Date:                Tue, 07 Apr 2020   Prob (F-statistic):           9.93e-77\n",
      "Time:                        15:41:07   Log-Likelihood:                -318.92\n",
      "No. Observations:                 712   AIC:                             647.8\n",
      "Df Residuals:                     707   BIC:                             670.7\n",
      "Df Model:                           4                                         \n",
      "Covariance Type:            nonrobust                                         \n",
      "==============================================================================\n",
      "                 coef    std err          t      P>|t|      [0.025      0.975]\n",
      "------------------------------------------------------------------------------\n",
      "Intercept      1.3786      0.067     20.565      0.000       1.247       1.510\n",
      "Age           -0.0062      0.001     -5.154      0.000      -0.009      -0.004\n",
      "Pclass        -0.1975      0.018    -10.689      0.000      -0.234      -0.161\n",
      "Sex           -0.5040      0.030    -16.663      0.000      -0.563      -0.445\n",
      "SibSp         -0.0418      0.014     -3.055      0.002      -0.069      -0.015\n",
      "==============================================================================\n",
      "Omnibus:                       29.273   Durbin-Watson:                   2.171\n",
      "Prob(Omnibus):                  0.000   Jarque-Bera (JB):               32.037\n",
      "Skew:                           0.518   Prob(JB):                     1.10e-07\n",
      "Kurtosis:                       3.067   Cond. No.                         155.\n",
      "==============================================================================\n",
      "\n",
      "Warnings:\n",
      "[1] Standard Errors assume that the covariance matrix of the errors is correctly specified.\n"
     ]
    }
   ],
   "source": [
    "# Initialize Logistic Regression model\n",
    "log_reg = smf.ols(formula = 'Survived ~ Age + Pclass + Sex + SibSp', \n",
    "                data = pd.concat([y_train, x_train], axis=1))\n",
    "# Fit Logistic Regression\n",
    "log_reg_fit = log_reg.fit()\n",
    "print(log_reg_fit.summary())"
   ]
  },
  {
   "cell_type": "markdown",
   "metadata": {},
   "source": [
    "**Obervations:**\n",
    "* AIC increased from the last model, meaning that even though Emarked is not significant at the 5% level, removing it from the model causes more \"damage\" than keeping it\n",
    "* Additionally, R-squared dropped to 0.399"
   ]
  },
  {
   "cell_type": "markdown",
   "metadata": {},
   "source": [
    "### Choosing the final model"
   ]
  },
  {
   "cell_type": "code",
   "execution_count": 71,
   "metadata": {},
   "outputs": [
    {
     "name": "stdout",
     "output_type": "stream",
     "text": [
      "                            OLS Regression Results                            \n",
      "==============================================================================\n",
      "Dep. Variable:               Survived   R-squared:                       0.402\n",
      "Model:                            OLS   Adj. R-squared:                  0.397\n",
      "Method:                 Least Squares   F-statistic:                     94.81\n",
      "Date:                Tue, 07 Apr 2020   Prob (F-statistic):           2.29e-76\n",
      "Time:                        15:42:58   Log-Likelihood:                -317.29\n",
      "No. Observations:                 712   AIC:                             646.6\n",
      "Df Residuals:                     706   BIC:                             674.0\n",
      "Df Model:                           5                                         \n",
      "Covariance Type:            nonrobust                                         \n",
      "==============================================================================\n",
      "                 coef    std err          t      P>|t|      [0.025      0.975]\n",
      "------------------------------------------------------------------------------\n",
      "Intercept      1.4063      0.069     20.480      0.000       1.271       1.541\n",
      "Age           -0.0061      0.001     -5.068      0.000      -0.008      -0.004\n",
      "Embarked      -0.0225      0.012     -1.804      0.072      -0.047       0.002\n",
      "Pclass        -0.1900      0.019    -10.051      0.000      -0.227      -0.153\n",
      "Sex           -0.4990      0.030    -16.451      0.000      -0.558      -0.439\n",
      "SibSp         -0.0403      0.014     -2.937      0.003      -0.067      -0.013\n",
      "==============================================================================\n",
      "Omnibus:                       30.270   Durbin-Watson:                   2.180\n",
      "Prob(Omnibus):                  0.000   Jarque-Bera (JB):               33.267\n",
      "Skew:                           0.528   Prob(JB):                     5.97e-08\n",
      "Kurtosis:                       3.065   Cond. No.                         158.\n",
      "==============================================================================\n",
      "\n",
      "Warnings:\n",
      "[1] Standard Errors assume that the covariance matrix of the errors is correctly specified.\n"
     ]
    }
   ],
   "source": [
    "# Initialize Logistic Regression model\n",
    "log_reg = smf.ols(formula = 'Survived ~ Age + Embarked + Pclass + Sex + SibSp', \n",
    "                data = pd.concat([y_train, x_train], axis=1))\n",
    "# Fit Logistic Regression\n",
    "log_reg_fit = log_reg.fit()\n",
    "print(log_reg_fit.summary())"
   ]
  },
  {
   "cell_type": "markdown",
   "metadata": {},
   "source": [
    "### Final Model's preformance"
   ]
  },
  {
   "cell_type": "code",
   "execution_count": 72,
   "metadata": {},
   "outputs": [
    {
     "name": "stdout",
     "output_type": "stream",
     "text": [
      "              precision    recall  f1-score   support\n",
      "\n",
      "         0.0       0.85      0.85      0.85       117\n",
      "         1.0       0.71      0.73      0.72        62\n",
      "\n",
      "    accuracy                           0.80       179\n",
      "   macro avg       0.78      0.79      0.78       179\n",
      "weighted avg       0.81      0.80      0.80       179\n",
      "\n"
     ]
    }
   ],
   "source": [
    "# Predict values on Test\n",
    "y_hat_test = log_reg_fit.predict(x_test)\n",
    "# Convert predictions into zeros and ones\n",
    "y_hat_test[y_hat_test < 0.5] = 0\n",
    "y_hat_test[y_hat_test >= 0.5] = 1\n",
    "# Print classification Report for Test Set\n",
    "print(metrics.classification_report(y_test, y_hat_test))"
   ]
  },
  {
   "cell_type": "code",
   "execution_count": 73,
   "metadata": {},
   "outputs": [
    {
     "data": {
      "text/plain": [
       "0.8044692737430168"
      ]
     },
     "execution_count": 73,
     "metadata": {},
     "output_type": "execute_result"
    }
   ],
   "source": [
    "metrics.accuracy_score(y_test, y_hat_test)"
   ]
  },
  {
   "cell_type": "markdown",
   "metadata": {},
   "source": [
    "## Submitting scores"
   ]
  },
  {
   "cell_type": "code",
   "execution_count": 88,
   "metadata": {},
   "outputs": [],
   "source": [
    "# Extract predictors for Test Data\n",
    "x = label_df.loc[raw_combined[\"Train\"] == 0,] "
   ]
  },
  {
   "cell_type": "code",
   "execution_count": 89,
   "metadata": {},
   "outputs": [],
   "source": [
    "# Predict on Test Data\n",
    "y_hat = log_reg_fit.predict(x)"
   ]
  },
  {
   "cell_type": "code",
   "execution_count": 90,
   "metadata": {},
   "outputs": [],
   "source": [
    "# Convert predictions into zeros and ones\n",
    "y_hat[y_hat < 0.5] = 0\n",
    "y_hat[y_hat >= 0.5] = 1"
   ]
  },
  {
   "cell_type": "code",
   "execution_count": 92,
   "metadata": {},
   "outputs": [],
   "source": [
    "# Convert into dataframe\n",
    "y_hat = pd.DataFrame(y_hat, columns = [\"Survived\"])"
   ]
  },
  {
   "cell_type": "code",
   "execution_count": 97,
   "metadata": {},
   "outputs": [],
   "source": [
    "# Add passenger information\n",
    "result = pd.concat([raw_combined.loc[raw_combined[\"Train\"] == 0, \"PassengerId\"], y_hat.astype(int)], axis = 1)"
   ]
  },
  {
   "cell_type": "code",
   "execution_count": 98,
   "metadata": {},
   "outputs": [
    {
     "data": {
      "text/html": [
       "<div>\n",
       "<style scoped>\n",
       "    .dataframe tbody tr th:only-of-type {\n",
       "        vertical-align: middle;\n",
       "    }\n",
       "\n",
       "    .dataframe tbody tr th {\n",
       "        vertical-align: top;\n",
       "    }\n",
       "\n",
       "    .dataframe thead th {\n",
       "        text-align: right;\n",
       "    }\n",
       "</style>\n",
       "<table border=\"1\" class=\"dataframe\">\n",
       "  <thead>\n",
       "    <tr style=\"text-align: right;\">\n",
       "      <th></th>\n",
       "      <th>PassengerId</th>\n",
       "      <th>Survived</th>\n",
       "    </tr>\n",
       "  </thead>\n",
       "  <tbody>\n",
       "    <tr>\n",
       "      <td>0</td>\n",
       "      <td>892</td>\n",
       "      <td>0</td>\n",
       "    </tr>\n",
       "    <tr>\n",
       "      <td>1</td>\n",
       "      <td>893</td>\n",
       "      <td>0</td>\n",
       "    </tr>\n",
       "    <tr>\n",
       "      <td>2</td>\n",
       "      <td>894</td>\n",
       "      <td>0</td>\n",
       "    </tr>\n",
       "    <tr>\n",
       "      <td>3</td>\n",
       "      <td>895</td>\n",
       "      <td>0</td>\n",
       "    </tr>\n",
       "    <tr>\n",
       "      <td>4</td>\n",
       "      <td>896</td>\n",
       "      <td>1</td>\n",
       "    </tr>\n",
       "  </tbody>\n",
       "</table>\n",
       "</div>"
      ],
      "text/plain": [
       "   PassengerId  Survived\n",
       "0          892         0\n",
       "1          893         0\n",
       "2          894         0\n",
       "3          895         0\n",
       "4          896         1"
      ]
     },
     "execution_count": 98,
     "metadata": {},
     "output_type": "execute_result"
    }
   ],
   "source": [
    "result.head()"
   ]
  },
  {
   "cell_type": "code",
   "execution_count": 99,
   "metadata": {},
   "outputs": [],
   "source": [
    "# Save file\n",
    "result.to_csv(\"../Submissions/logistic_regression.csv\", index = False)"
   ]
  }
 ],
 "metadata": {
  "kernelspec": {
   "display_name": "Python 3",
   "language": "python",
   "name": "python3"
  },
  "language_info": {
   "codemirror_mode": {
    "name": "ipython",
    "version": 3
   },
   "file_extension": ".py",
   "mimetype": "text/x-python",
   "name": "python",
   "nbconvert_exporter": "python",
   "pygments_lexer": "ipython3",
   "version": "3.7.4"
  }
 },
 "nbformat": 4,
 "nbformat_minor": 2
}

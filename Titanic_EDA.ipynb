{
 "cells": [
  {
   "cell_type": "markdown",
   "metadata": {},
   "source": [
    "## Importing necessary libraries"
   ]
  },
  {
   "cell_type": "code",
   "execution_count": 1,
   "metadata": {},
   "outputs": [],
   "source": [
    "import pandas as pd\n",
    "import numpy as np\n",
    "import matplotlib.pyplot as plt\n",
    "import seaborn as sns"
   ]
  },
  {
   "cell_type": "markdown",
   "metadata": {},
   "source": [
    "## Importing datasets"
   ]
  },
  {
   "cell_type": "code",
   "execution_count": 2,
   "metadata": {},
   "outputs": [],
   "source": [
    "# Import train and test\n",
    "raw_train = pd.read_csv('../Data/train.csv')\n",
    "raw_test = pd.read_csv('../Data/test.csv')"
   ]
  },
  {
   "cell_type": "code",
   "execution_count": 3,
   "metadata": {},
   "outputs": [
    {
     "name": "stderr",
     "output_type": "stream",
     "text": [
      "/Users/luciaronchi/opt/anaconda3/lib/python3.7/site-packages/ipykernel_launcher.py:5: FutureWarning: Sorting because non-concatenation axis is not aligned. A future version\n",
      "of pandas will change to not sort by default.\n",
      "\n",
      "To accept the future behavior, pass 'sort=False'.\n",
      "\n",
      "To retain the current behavior and silence the warning, pass 'sort=True'.\n",
      "\n",
      "  \"\"\"\n"
     ]
    },
    {
     "data": {
      "text/plain": [
       "(1309, 13)"
      ]
     },
     "execution_count": 3,
     "metadata": {},
     "output_type": "execute_result"
    }
   ],
   "source": [
    "# Add column indicating type of sample\n",
    "raw_train[\"Train\"] = 1\n",
    "raw_test[\"Train\"] = 0\n",
    "# Combine datasets\n",
    "raw_combined = pd.concat([raw_train, raw_test])\n",
    "# Shape of the resulting df\n",
    "raw_combined.shape"
   ]
  },
  {
   "cell_type": "code",
   "execution_count": 4,
   "metadata": {},
   "outputs": [
    {
     "data": {
      "text/html": [
       "<div>\n",
       "<style scoped>\n",
       "    .dataframe tbody tr th:only-of-type {\n",
       "        vertical-align: middle;\n",
       "    }\n",
       "\n",
       "    .dataframe tbody tr th {\n",
       "        vertical-align: top;\n",
       "    }\n",
       "\n",
       "    .dataframe thead th {\n",
       "        text-align: right;\n",
       "    }\n",
       "</style>\n",
       "<table border=\"1\" class=\"dataframe\">\n",
       "  <thead>\n",
       "    <tr style=\"text-align: right;\">\n",
       "      <th></th>\n",
       "      <th>Age</th>\n",
       "      <th>Cabin</th>\n",
       "      <th>Embarked</th>\n",
       "      <th>Fare</th>\n",
       "      <th>Name</th>\n",
       "      <th>Parch</th>\n",
       "      <th>PassengerId</th>\n",
       "      <th>Pclass</th>\n",
       "      <th>Sex</th>\n",
       "      <th>SibSp</th>\n",
       "      <th>Survived</th>\n",
       "      <th>Ticket</th>\n",
       "      <th>Train</th>\n",
       "    </tr>\n",
       "  </thead>\n",
       "  <tbody>\n",
       "    <tr>\n",
       "      <td>0</td>\n",
       "      <td>22.0</td>\n",
       "      <td>NaN</td>\n",
       "      <td>S</td>\n",
       "      <td>7.2500</td>\n",
       "      <td>Braund, Mr. Owen Harris</td>\n",
       "      <td>0</td>\n",
       "      <td>1</td>\n",
       "      <td>3</td>\n",
       "      <td>male</td>\n",
       "      <td>1</td>\n",
       "      <td>0.0</td>\n",
       "      <td>A/5 21171</td>\n",
       "      <td>1</td>\n",
       "    </tr>\n",
       "    <tr>\n",
       "      <td>1</td>\n",
       "      <td>38.0</td>\n",
       "      <td>C85</td>\n",
       "      <td>C</td>\n",
       "      <td>71.2833</td>\n",
       "      <td>Cumings, Mrs. John Bradley (Florence Briggs Th...</td>\n",
       "      <td>0</td>\n",
       "      <td>2</td>\n",
       "      <td>1</td>\n",
       "      <td>female</td>\n",
       "      <td>1</td>\n",
       "      <td>1.0</td>\n",
       "      <td>PC 17599</td>\n",
       "      <td>1</td>\n",
       "    </tr>\n",
       "    <tr>\n",
       "      <td>2</td>\n",
       "      <td>26.0</td>\n",
       "      <td>NaN</td>\n",
       "      <td>S</td>\n",
       "      <td>7.9250</td>\n",
       "      <td>Heikkinen, Miss. Laina</td>\n",
       "      <td>0</td>\n",
       "      <td>3</td>\n",
       "      <td>3</td>\n",
       "      <td>female</td>\n",
       "      <td>0</td>\n",
       "      <td>1.0</td>\n",
       "      <td>STON/O2. 3101282</td>\n",
       "      <td>1</td>\n",
       "    </tr>\n",
       "    <tr>\n",
       "      <td>3</td>\n",
       "      <td>35.0</td>\n",
       "      <td>C123</td>\n",
       "      <td>S</td>\n",
       "      <td>53.1000</td>\n",
       "      <td>Futrelle, Mrs. Jacques Heath (Lily May Peel)</td>\n",
       "      <td>0</td>\n",
       "      <td>4</td>\n",
       "      <td>1</td>\n",
       "      <td>female</td>\n",
       "      <td>1</td>\n",
       "      <td>1.0</td>\n",
       "      <td>113803</td>\n",
       "      <td>1</td>\n",
       "    </tr>\n",
       "    <tr>\n",
       "      <td>4</td>\n",
       "      <td>35.0</td>\n",
       "      <td>NaN</td>\n",
       "      <td>S</td>\n",
       "      <td>8.0500</td>\n",
       "      <td>Allen, Mr. William Henry</td>\n",
       "      <td>0</td>\n",
       "      <td>5</td>\n",
       "      <td>3</td>\n",
       "      <td>male</td>\n",
       "      <td>0</td>\n",
       "      <td>0.0</td>\n",
       "      <td>373450</td>\n",
       "      <td>1</td>\n",
       "    </tr>\n",
       "  </tbody>\n",
       "</table>\n",
       "</div>"
      ],
      "text/plain": [
       "    Age Cabin Embarked     Fare  \\\n",
       "0  22.0   NaN        S   7.2500   \n",
       "1  38.0   C85        C  71.2833   \n",
       "2  26.0   NaN        S   7.9250   \n",
       "3  35.0  C123        S  53.1000   \n",
       "4  35.0   NaN        S   8.0500   \n",
       "\n",
       "                                                Name  Parch  PassengerId  \\\n",
       "0                            Braund, Mr. Owen Harris      0            1   \n",
       "1  Cumings, Mrs. John Bradley (Florence Briggs Th...      0            2   \n",
       "2                             Heikkinen, Miss. Laina      0            3   \n",
       "3       Futrelle, Mrs. Jacques Heath (Lily May Peel)      0            4   \n",
       "4                           Allen, Mr. William Henry      0            5   \n",
       "\n",
       "   Pclass     Sex  SibSp  Survived            Ticket  Train  \n",
       "0       3    male      1       0.0         A/5 21171      1  \n",
       "1       1  female      1       1.0          PC 17599      1  \n",
       "2       3  female      0       1.0  STON/O2. 3101282      1  \n",
       "3       1  female      1       1.0            113803      1  \n",
       "4       3    male      0       0.0            373450      1  "
      ]
     },
     "execution_count": 4,
     "metadata": {},
     "output_type": "execute_result"
    }
   ],
   "source": [
    "# Check resulting dataframe\n",
    "raw_combined.head()"
   ]
  },
  {
   "cell_type": "markdown",
   "metadata": {},
   "source": [
    "## Interpreting Variables (only for Train dataset)"
   ]
  },
  {
   "cell_type": "code",
   "execution_count": 5,
   "metadata": {},
   "outputs": [],
   "source": [
    "# Possible predictors are all variables except the ones containing unique information such as Name and PassengerId\n",
    "predictors = [\"Age\", \"Cabin\", \"Embarked\", \"Fare\", \"Parch\", \"Pclass\", \"Sex\", \"SibSp\", \"Ticket\"]\n",
    "# Target variable is what we want to predict\n",
    "target = [\"Survived\"]"
   ]
  },
  {
   "cell_type": "markdown",
   "metadata": {},
   "source": [
    "## Variable descriptions"
   ]
  },
  {
   "cell_type": "markdown",
   "metadata": {},
   "source": [
    "**age**: Age is fractional if less than 1. If the age is estimated, is it in the form of xx.5  \n",
    "\n",
    "\n",
    "**embarked**: Port of Embarkation\n",
    "- C = Cherbourg\n",
    "- Q = Queenstown\n",
    "- S = Southampton  \n",
    "\n",
    "\n",
    "**parch**: The dataset defines family relations in this way...  \n",
    "- Parent = mother, father\n",
    "- Child = daughter, son, stepdaughter, stepson\n",
    "- Some children travelled only with a nanny, therefore parch=0 for them\n",
    "\n",
    "\n",
    "**pclass**: A proxy for socio-economic status (SES)\n",
    "- 1st = Upper\n",
    "- 2nd = Middle\n",
    "- 3rd = Lower\n",
    "\n",
    "\n",
    "**sibsp**: The dataset defines family relations in this way...\n",
    "- Sibling = brother, sister, stepbrother, stepsister\n",
    "- Spouse = husband, wife (mistresses and fiancés were ignored)"
   ]
  },
  {
   "cell_type": "markdown",
   "metadata": {},
   "source": [
    "## Survived"
   ]
  },
  {
   "cell_type": "code",
   "execution_count": 6,
   "metadata": {},
   "outputs": [
    {
     "data": {
      "text/plain": [
       "array([0, 1])"
      ]
     },
     "execution_count": 6,
     "metadata": {},
     "output_type": "execute_result"
    }
   ],
   "source": [
    "# Unique values\n",
    "raw_train[\"Survived\"].unique()"
   ]
  },
  {
   "cell_type": "code",
   "execution_count": 7,
   "metadata": {},
   "outputs": [
    {
     "data": {
      "image/png": "[encoded data removed]",
      "text/plain": [
       "<Figure size 432x288 with 1 Axes>"
      ]
     },
     "metadata": {
      "needs_background": "light"
     },
     "output_type": "display_data"
    }
   ],
   "source": [
    "# Bar chart\n",
    "plt.figure()\n",
    "raw_train.groupby(\"Survived\").count()[\"PassengerId\"].plot(kind = \"bar\", color = [\"#FF1493\",'#FFC0CB'])\n",
    "plt.ylabel(\"Frequency\")\n",
    "plt.show()"
   ]
  },
  {
   "cell_type": "markdown",
   "metadata": {},
   "source": [
    "Observation: There are more deaths than survivals."
   ]
  },
  {
   "cell_type": "markdown",
   "metadata": {},
   "source": [
    "## Sex"
   ]
  },
  {
   "cell_type": "code",
   "execution_count": 8,
   "metadata": {},
   "outputs": [
    {
     "data": {
      "text/plain": [
       "array(['male', 'female'], dtype=object)"
      ]
     },
     "execution_count": 8,
     "metadata": {},
     "output_type": "execute_result"
    }
   ],
   "source": [
    "# Unique values\n",
    "raw_train[\"Sex\"].unique()"
   ]
  },
  {
   "cell_type": "code",
   "execution_count": 9,
   "metadata": {},
   "outputs": [
    {
     "data": {
      "text/plain": [
       "0.0"
      ]
     },
     "execution_count": 9,
     "metadata": {},
     "output_type": "execute_result"
    }
   ],
   "source": [
    "# Missing values (%)\n",
    "sum(pd.isna(raw_train[\"Sex\"]))/len(raw_train)*100"
   ]
  },
  {
   "cell_type": "code",
   "execution_count": 10,
   "metadata": {},
   "outputs": [
    {
     "data": {
      "text/html": [
       "<div>\n",
       "<style scoped>\n",
       "    .dataframe tbody tr th:only-of-type {\n",
       "        vertical-align: middle;\n",
       "    }\n",
       "\n",
       "    .dataframe tbody tr th {\n",
       "        vertical-align: top;\n",
       "    }\n",
       "\n",
       "    .dataframe thead th {\n",
       "        text-align: right;\n",
       "    }\n",
       "</style>\n",
       "<table border=\"1\" class=\"dataframe\">\n",
       "  <thead>\n",
       "    <tr style=\"text-align: right;\">\n",
       "      <th></th>\n",
       "      <th>Sex</th>\n",
       "      <th>Survived</th>\n",
       "      <th>Died</th>\n",
       "    </tr>\n",
       "  </thead>\n",
       "  <tbody>\n",
       "    <tr>\n",
       "      <td>0</td>\n",
       "      <td>female</td>\n",
       "      <td>233</td>\n",
       "      <td>81</td>\n",
       "    </tr>\n",
       "    <tr>\n",
       "      <td>1</td>\n",
       "      <td>male</td>\n",
       "      <td>109</td>\n",
       "      <td>468</td>\n",
       "    </tr>\n",
       "  </tbody>\n",
       "</table>\n",
       "</div>"
      ],
      "text/plain": [
       "      Sex  Survived  Died\n",
       "0  female       233    81\n",
       "1    male       109   468"
      ]
     },
     "execution_count": 10,
     "metadata": {},
     "output_type": "execute_result"
    }
   ],
   "source": [
    "# Create dataframe for plot\n",
    "# Select variable for analysis\n",
    "var = \"Sex\"\n",
    "# Generate dataframe grouping by the variable of interest\n",
    "df = raw_train.groupby([var], as_index = False).sum()\n",
    "# Create the variable \"Died\" by substracting survivals from total passengers\n",
    "df[\"Died\"] = raw_train.groupby([var], as_index = False).sum()[\"Train\"] - raw_train.groupby([var], as_index = False).sum()[\"Survived\"]\n",
    "# Extract only variables of interest\n",
    "df = df.loc[:,[var, \"Survived\", \"Died\"]]\n",
    "# Visualize resulting df\n",
    "df"
   ]
  },
  {
   "cell_type": "code",
   "execution_count": 11,
   "metadata": {
    "scrolled": true
   },
   "outputs": [
    {
     "data": {
      "image/png": "[encoded data removed]",
      "text/plain": [
       "<Figure size 720x360 with 1 Axes>"
      ]
     },
     "metadata": {
      "needs_background": "light"
     },
     "output_type": "display_data"
    }
   ],
   "source": [
    "# Define colors\n",
    "colors = ['#FF1493', '#FFC0CB']\n",
    "\n",
    "# Plot a stacked bar chart\n",
    "ax = df[[\"Survived\", \"Died\"]].plot(stacked = True, kind = 'bar', figsize = (10, 5), color = colors, edgecolor='white',)\n",
    "\n",
    "# Set no rotation in axis labels\n",
    "plt.xticks(rotation=0)\n",
    "\n",
    "# Set axis names and labels\n",
    "plt.xlabel(var)\n",
    "plt.xticks(np.arange(len(df)), df[var])\n",
    "plt.ylabel(\"Frequency\")\n",
    "\n",
    "# Locate each rectangle in the plot's patches (objects)\n",
    "for rect in ax.patches:\n",
    "    \n",
    "    # Find where each rectangle is located\n",
    "    height = rect.get_height()\n",
    "    width = rect.get_width()\n",
    "    \n",
    "    # Get coordinates\n",
    "    x = rect.get_x()\n",
    "    y = rect.get_y()\n",
    "    \n",
    "    # The frequency is represented by the height of each rectangle, and it's what we want to show\n",
    "    label_text = height\n",
    "    \n",
    "    # Assign position of the label\n",
    "    label_x = x + width/2\n",
    "    label_y = y + height/2\n",
    "    \n",
    "    # Add text label\n",
    "    ax.text(label_x, label_y, label_text, ha = 'center', va = 'center', fontsize = 14, fontweight = \"bold\", color = \"white\")\n",
    "\n",
    "# Show plot\n",
    "plt.show()"
   ]
  },
  {
   "cell_type": "markdown",
   "metadata": {},
   "source": [
    "Observation: There were more males than females, but female survival rate is much higher than male survival rate."
   ]
  },
  {
   "cell_type": "markdown",
   "metadata": {},
   "source": [
    "### Pclass"
   ]
  },
  {
   "cell_type": "code",
   "execution_count": 12,
   "metadata": {},
   "outputs": [
    {
     "data": {
      "text/plain": [
       "array([3, 1, 2])"
      ]
     },
     "execution_count": 12,
     "metadata": {},
     "output_type": "execute_result"
    }
   ],
   "source": [
    "# Unique values\n",
    "raw_train[\"Pclass\"].unique()"
   ]
  },
  {
   "cell_type": "code",
   "execution_count": 13,
   "metadata": {},
   "outputs": [
    {
     "data": {
      "text/plain": [
       "0.0"
      ]
     },
     "execution_count": 13,
     "metadata": {},
     "output_type": "execute_result"
    }
   ],
   "source": [
    "# Missing values (%)\n",
    "sum(pd.isna(raw_train[\"Pclass\"]))/len(raw_train)*100"
   ]
  },
  {
   "cell_type": "code",
   "execution_count": 14,
   "metadata": {},
   "outputs": [
    {
     "data": {
      "text/html": [
       "<div>\n",
       "<style scoped>\n",
       "    .dataframe tbody tr th:only-of-type {\n",
       "        vertical-align: middle;\n",
       "    }\n",
       "\n",
       "    .dataframe tbody tr th {\n",
       "        vertical-align: top;\n",
       "    }\n",
       "\n",
       "    .dataframe thead th {\n",
       "        text-align: right;\n",
       "    }\n",
       "</style>\n",
       "<table border=\"1\" class=\"dataframe\">\n",
       "  <thead>\n",
       "    <tr style=\"text-align: right;\">\n",
       "      <th></th>\n",
       "      <th>Pclass</th>\n",
       "      <th>Survived</th>\n",
       "      <th>Died</th>\n",
       "    </tr>\n",
       "  </thead>\n",
       "  <tbody>\n",
       "    <tr>\n",
       "      <td>0</td>\n",
       "      <td>1</td>\n",
       "      <td>136</td>\n",
       "      <td>80</td>\n",
       "    </tr>\n",
       "    <tr>\n",
       "      <td>1</td>\n",
       "      <td>2</td>\n",
       "      <td>87</td>\n",
       "      <td>97</td>\n",
       "    </tr>\n",
       "    <tr>\n",
       "      <td>2</td>\n",
       "      <td>3</td>\n",
       "      <td>119</td>\n",
       "      <td>372</td>\n",
       "    </tr>\n",
       "  </tbody>\n",
       "</table>\n",
       "</div>"
      ],
      "text/plain": [
       "   Pclass  Survived  Died\n",
       "0       1       136    80\n",
       "1       2        87    97\n",
       "2       3       119   372"
      ]
     },
     "execution_count": 14,
     "metadata": {},
     "output_type": "execute_result"
    }
   ],
   "source": [
    "# Create dataframe for plot\n",
    "# Select variable for analysis\n",
    "var = \"Pclass\"\n",
    "# Generate dataframe grouping by the variable of interest\n",
    "df = raw_train.groupby([var], as_index = False).sum()\n",
    "# Create the variable \"Died\" by substracting survivals from total passengers\n",
    "df[\"Died\"] = raw_train.groupby([var], as_index = False).sum()[\"Train\"] - raw_train.groupby([var], as_index = False).sum()[\"Survived\"]\n",
    "# Extract only variables of interest\n",
    "df = df.loc[:,[var, \"Survived\", \"Died\"]]\n",
    "# Visualize resulting df\n",
    "df"
   ]
  },
  {
   "cell_type": "code",
   "execution_count": 15,
   "metadata": {},
   "outputs": [
    {
     "data": {
      "image/png": "[encoded data removed]",
      "text/plain": [
       "<Figure size 720x360 with 1 Axes>"
      ]
     },
     "metadata": {
      "needs_background": "light"
     },
     "output_type": "display_data"
    }
   ],
   "source": [
    "# Define colors\n",
    "colors = ['#FF1493', '#FFC0CB']\n",
    "\n",
    "# Plot a stacked bar chart\n",
    "ax = df[[\"Survived\", \"Died\"]].plot(stacked = True, kind = 'bar', figsize = (10, 5), color = colors, edgecolor = 'white',)\n",
    "\n",
    "# Set no rotation in axis labels\n",
    "plt.xticks(rotation=0)\n",
    "\n",
    "# Set axis names and labels\n",
    "plt.xlabel(var)\n",
    "plt.xticks(np.arange(len(df)), df[var])\n",
    "plt.ylabel(\"Frequency\")\n",
    "\n",
    "# Locate each rectangle in the plot's patches (objects)\n",
    "for rect in ax.patches:\n",
    "    \n",
    "    # Find where each rectangle is located\n",
    "    height = rect.get_height()\n",
    "    width = rect.get_width()\n",
    "    \n",
    "    # Get coordinates\n",
    "    x = rect.get_x()\n",
    "    y = rect.get_y()\n",
    "    \n",
    "    # The frequency is represented by the height of each rectangle, and it's what we want to show\n",
    "    label_text = height\n",
    "    \n",
    "    # Assign position of the label\n",
    "    label_x = x + width/2\n",
    "    label_y = y + height/2\n",
    "    \n",
    "    # Add text label\n",
    "    ax.text(label_x, label_y, label_text, ha = 'center', va = 'center', fontsize = 14, fontweight = \"bold\", color = \"white\")\n",
    "\n",
    "# Show plot\n",
    "plt.show()"
   ]
  },
  {
   "cell_type": "markdown",
   "metadata": {},
   "source": [
    "Obervations: \n",
    "* Most passangers were travelling in 3rd class, for which survival rate is much less than 50%.  \n",
    "* For the other two classes, survival rate is at 50% or higher."
   ]
  },
  {
   "cell_type": "markdown",
   "metadata": {},
   "source": [
    "### Age"
   ]
  },
  {
   "cell_type": "code",
   "execution_count": 16,
   "metadata": {},
   "outputs": [
    {
     "data": {
      "text/plain": [
       "array([22.  , 38.  , 26.  , 35.  ,   nan, 54.  ,  2.  , 27.  , 14.  ,\n",
       "        4.  , 58.  , 20.  , 39.  , 55.  , 31.  , 34.  , 15.  , 28.  ,\n",
       "        8.  , 19.  , 40.  , 66.  , 42.  , 21.  , 18.  ,  3.  ,  7.  ,\n",
       "       49.  , 29.  , 65.  , 28.5 ,  5.  , 11.  , 45.  , 17.  , 32.  ,\n",
       "       16.  , 25.  ,  0.83, 30.  , 33.  , 23.  , 24.  , 46.  , 59.  ,\n",
       "       71.  , 37.  , 47.  , 14.5 , 70.5 , 32.5 , 12.  ,  9.  , 36.5 ,\n",
       "       51.  , 55.5 , 40.5 , 44.  ,  1.  , 61.  , 56.  , 50.  , 36.  ,\n",
       "       45.5 , 20.5 , 62.  , 41.  , 52.  , 63.  , 23.5 ,  0.92, 43.  ,\n",
       "       60.  , 10.  , 64.  , 13.  , 48.  ,  0.75, 53.  , 57.  , 80.  ,\n",
       "       70.  , 24.5 ,  6.  ,  0.67, 30.5 ,  0.42, 34.5 , 74.  ])"
      ]
     },
     "execution_count": 16,
     "metadata": {},
     "output_type": "execute_result"
    }
   ],
   "source": [
    "# Unique values\n",
    "raw_train[\"Age\"].unique()"
   ]
  },
  {
   "cell_type": "code",
   "execution_count": 17,
   "metadata": {},
   "outputs": [
    {
     "data": {
      "text/plain": [
       "19.87"
      ]
     },
     "execution_count": 17,
     "metadata": {},
     "output_type": "execute_result"
    }
   ],
   "source": [
    "# Missing values (%)\n",
    "round(sum(raw_train[\"Age\"].isnull())/len(raw_train)*100, 2)"
   ]
  },
  {
   "cell_type": "code",
   "execution_count": 18,
   "metadata": {},
   "outputs": [],
   "source": [
    "# Extract ages according to Survival\n",
    "x = raw_train.loc[raw_train[\"Survived\"] == 1, \"Age\"]\n",
    "y = raw_train.loc[raw_train[\"Survived\"] == 0, \"Age\"]\n",
    "z = raw_train[\"Age\"]"
   ]
  },
  {
   "cell_type": "code",
   "execution_count": 19,
   "metadata": {},
   "outputs": [
    {
     "name": "stderr",
     "output_type": "stream",
     "text": [
      "/Users/luciaronchi/opt/anaconda3/lib/python3.7/site-packages/numpy/lib/histograms.py:829: RuntimeWarning: invalid value encountered in greater_equal\n",
      "  keep = (tmp_a >= first_edge)\n",
      "/Users/luciaronchi/opt/anaconda3/lib/python3.7/site-packages/numpy/lib/histograms.py:830: RuntimeWarning: invalid value encountered in less_equal\n",
      "  keep &= (tmp_a <= last_edge)\n"
     ]
    },
    {
     "data": {
      "image/png": "[encoded data removed]",
      "text/plain": [
       "<Figure size 432x288 with 1 Axes>"
      ]
     },
     "metadata": {
      "needs_background": "light"
     },
     "output_type": "display_data"
    }
   ],
   "source": [
    "# Plot histograms\n",
    "plt.hist([x, y], label = ['Survived', 'Died'], color = colors)\n",
    "# Add title, legend, and axis names\n",
    "plt.title(\"Age distribution for Survived vs Died\")\n",
    "plt.legend(loc = 'upper right')\n",
    "plt.xlabel(\"Age\")\n",
    "plt.ylabel(\"Frequency\")\n",
    "plt.show()"
   ]
  },
  {
   "cell_type": "code",
   "execution_count": 20,
   "metadata": {},
   "outputs": [
    {
     "data": {
      "image/png": "[encoded data removed]",
      "text/plain": [
       "<Figure size 432x288 with 1 Axes>"
      ]
     },
     "metadata": {
      "needs_background": "light"
     },
     "output_type": "display_data"
    }
   ],
   "source": [
    "# Plot histograms\n",
    "plt.hist([x, z], label = ['Survived', 'All'], color = ['#FF1493', 'grey'])\n",
    "# Add title, legend, and axis names\n",
    "plt.title(\"Age distribution for Survived vs All\")\n",
    "plt.legend(loc = 'upper right')\n",
    "plt.xlabel(\"Age\")\n",
    "plt.ylabel(\"Frequency\")\n",
    "plt.show()"
   ]
  },
  {
   "cell_type": "markdown",
   "metadata": {},
   "source": [
    "Observations:  \n",
    "* Age has a normal distribution around 25 years, skewed to the right\n",
    "* Survival depends greatly on age gap, as expected\n",
    "* Children less than 10 years of age have a survival rate of ~80%\n",
    "* The rest of the age gaps have more deaths than survivals, specially young adults (20-30 and 30-40) which where probably the last to board the rafts"
   ]
  },
  {
   "cell_type": "markdown",
   "metadata": {},
   "source": [
    "### SibSp"
   ]
  },
  {
   "cell_type": "code",
   "execution_count": 21,
   "metadata": {},
   "outputs": [
    {
     "data": {
      "text/plain": [
       "array([1, 0, 3, 4, 2, 5, 8])"
      ]
     },
     "execution_count": 21,
     "metadata": {},
     "output_type": "execute_result"
    }
   ],
   "source": [
    "# Unique values\n",
    "raw_train[\"SibSp\"].unique()"
   ]
  },
  {
   "cell_type": "code",
   "execution_count": 22,
   "metadata": {},
   "outputs": [
    {
     "data": {
      "text/plain": [
       "0.0"
      ]
     },
     "execution_count": 22,
     "metadata": {},
     "output_type": "execute_result"
    }
   ],
   "source": [
    "# Missing values (%)\n",
    "round(sum(raw_train[\"SibSp\"].isnull())/len(raw_train)*100, 2)"
   ]
  },
  {
   "cell_type": "code",
   "execution_count": 23,
   "metadata": {},
   "outputs": [],
   "source": [
    "# Extract SibSp according to Survived\n",
    "x = raw_train.loc[raw_train[\"Survived\"] == 1, \"SibSp\"]\n",
    "y = raw_train.loc[raw_train[\"Survived\"] == 0, \"SibSp\"]"
   ]
  },
  {
   "cell_type": "code",
   "execution_count": 24,
   "metadata": {},
   "outputs": [
    {
     "data": {
      "image/png": "[encoded data removed]",
      "text/plain": [
       "<Figure size 432x288 with 1 Axes>"
      ]
     },
     "metadata": {
      "needs_background": "light"
     },
     "output_type": "display_data"
    }
   ],
   "source": [
    "# Histogram\n",
    "plt.hist([x,y], label = [\"Survived\", \"Died\"], color = colors)\n",
    "# Add title, legends, and axis names\n",
    "plt.legend(loc = \"upper right\")\n",
    "plt.title(\"SibSp distribution for Survived vs Died\")\n",
    "plt.xlabel(\"SibSp\")\n",
    "plt.ylabel(\"Frequency\")\n",
    "plt.show()"
   ]
  },
  {
   "cell_type": "markdown",
   "metadata": {},
   "source": [
    "Obervations: \n",
    "* Most people were travelling alone, as they are neither siblings nor spouses of someone else (SibSp = 0)\n",
    "* People travelling alone mostly died (they were probably young adult males)\n",
    "* For people travelling with 1 sibiling/spouse, chances of survival were more than 50%\n",
    "* For the rest of the categories, there are too few values to make clear conclusions"
   ]
  },
  {
   "cell_type": "markdown",
   "metadata": {},
   "source": [
    "### Parch"
   ]
  },
  {
   "cell_type": "code",
   "execution_count": 25,
   "metadata": {},
   "outputs": [
    {
     "data": {
      "text/plain": [
       "array([0, 1, 2, 5, 3, 4, 6])"
      ]
     },
     "execution_count": 25,
     "metadata": {},
     "output_type": "execute_result"
    }
   ],
   "source": [
    "# Unique values\n",
    "raw_train[\"Parch\"].unique()"
   ]
  },
  {
   "cell_type": "code",
   "execution_count": 26,
   "metadata": {},
   "outputs": [
    {
     "data": {
      "text/plain": [
       "0.0"
      ]
     },
     "execution_count": 26,
     "metadata": {},
     "output_type": "execute_result"
    }
   ],
   "source": [
    "# Missing values (%)\n",
    "round(sum(raw_train[\"Parch\"].isnull())/len(raw_train)*100, 2)"
   ]
  },
  {
   "cell_type": "code",
   "execution_count": 27,
   "metadata": {},
   "outputs": [],
   "source": [
    "# Extract Parch according to Survived\n",
    "x = raw_train.loc[raw_train[\"Survived\"] == 1, \"Parch\"]\n",
    "y = raw_train.loc[raw_train[\"Survived\"] == 0, \"Parch\"]"
   ]
  },
  {
   "cell_type": "code",
   "execution_count": 28,
   "metadata": {},
   "outputs": [
    {
     "data": {
      "image/png": "[encoded data removed]",
      "text/plain": [
       "<Figure size 432x288 with 1 Axes>"
      ]
     },
     "metadata": {
      "needs_background": "light"
     },
     "output_type": "display_data"
    }
   ],
   "source": [
    "# Histogram\n",
    "plt.hist([x,y], label = [\"Survived\", \"Died\"], color = colors)\n",
    "# Add title, legends, and axis names\n",
    "plt.legend(loc = \"upper right\")\n",
    "plt.title(\"Parch distribution for Survived vs Died\")\n",
    "plt.xlabel(\"Parch\")\n",
    "plt.ylabel(\"Frequency\")\n",
    "plt.show()"
   ]
  },
  {
   "cell_type": "markdown",
   "metadata": {},
   "source": [
    "Observations:\n",
    "* Similar to SipSp, for people with no children / parents chances of survival were low\n",
    "* For people with 1 or 2 SipSp, chances were ~50% or more"
   ]
  },
  {
   "cell_type": "markdown",
   "metadata": {},
   "source": [
    "### Ticket"
   ]
  },
  {
   "cell_type": "code",
   "execution_count": 29,
   "metadata": {},
   "outputs": [
    {
     "data": {
      "text/plain": [
       "array(['PC 17599', 'STON/O2. 3101282', '113803', '373450', '330877',\n",
       "       '17463', '349909', '347742', '237736', 'PP 9549', '113783',\n",
       "       'A/5. 2151', '347082', '350406', '248706', '382652', '244373',\n",
       "       '345763', '2649', '239865', '248698', '330923', '113788', '347077',\n",
       "       '2631', '19950', '330959', '349216', 'PC 17601', 'PC 17569',\n",
       "       '335677', 'C.A. 24579', 'PC 17604', '113789', '2677', 'A./5. 2152',\n",
       "       '345764', '2651', '7546', '11668', '349253', 'SC/Paris 2123',\n",
       "       '330958', 'S.C./A.4. 23567', '370371', '14311', '2662', '349237',\n",
       "       '3101295', 'A/4. 39886', 'PC 17572', '2926', '113509', '19947',\n",
       "       'C.A. 31026', '2697', 'C.A. 34651', 'CA 2144', '2669', '113572',\n",
       "       '36973', '347088', 'PC 17605', '2661', 'C.A. 29395', 'S.P. 3464',\n",
       "       '3101281', '315151', 'C.A. 33111', 'S.O.C. 14879', '2680', '1601',\n",
       "       '348123', '349208', '374746', '248738', '364516', '345767',\n",
       "       '345779', '330932', '113059', 'SO/C 14885', '3101278',\n",
       "       'W./C. 6608', 'SOTON/OQ 392086', '343275', '343276', '347466',\n",
       "       'W.E.P. 5734', 'C.A. 2315', '364500', '374910', 'PC 17754',\n",
       "       'PC 17759', '231919', '244367', '349245', '349215', '35281'],\n",
       "      dtype=object)"
      ]
     },
     "execution_count": 29,
     "metadata": {},
     "output_type": "execute_result"
    }
   ],
   "source": [
    "# Unique values\n",
    "raw_train[\"Ticket\"].unique()[1:100]"
   ]
  },
  {
   "cell_type": "code",
   "execution_count": 30,
   "metadata": {},
   "outputs": [
    {
     "data": {
      "text/plain": [
       "0.0"
      ]
     },
     "execution_count": 30,
     "metadata": {},
     "output_type": "execute_result"
    }
   ],
   "source": [
    "# Missing values (%)\n",
    "round(sum(raw_train[\"Ticket\"].isnull())/len(raw_train)*100, 2)"
   ]
  },
  {
   "cell_type": "code",
   "execution_count": 31,
   "metadata": {},
   "outputs": [
    {
     "name": "stdout",
     "output_type": "stream",
     "text": [
      "Total: 891\n",
      "Unique: 681\n"
     ]
    }
   ],
   "source": [
    "# Not all are unique values, there are some repeated.\n",
    "print(\"Total:\", len(raw_train))\n",
    "print(\"Unique:\", len(raw_train[\"Ticket\"].unique()))"
   ]
  },
  {
   "cell_type": "code",
   "execution_count": 32,
   "metadata": {},
   "outputs": [
    {
     "data": {
      "text/html": [
       "<div>\n",
       "<style scoped>\n",
       "    .dataframe tbody tr th:only-of-type {\n",
       "        vertical-align: middle;\n",
       "    }\n",
       "\n",
       "    .dataframe tbody tr th {\n",
       "        vertical-align: top;\n",
       "    }\n",
       "\n",
       "    .dataframe thead th {\n",
       "        text-align: right;\n",
       "    }\n",
       "</style>\n",
       "<table border=\"1\" class=\"dataframe\">\n",
       "  <thead>\n",
       "    <tr style=\"text-align: right;\">\n",
       "      <th></th>\n",
       "      <th>PassengerId</th>\n",
       "    </tr>\n",
       "    <tr>\n",
       "      <th>Ticket</th>\n",
       "      <th></th>\n",
       "    </tr>\n",
       "  </thead>\n",
       "  <tbody>\n",
       "    <tr>\n",
       "      <td>CA. 2343</td>\n",
       "      <td>7</td>\n",
       "    </tr>\n",
       "    <tr>\n",
       "      <td>1601</td>\n",
       "      <td>7</td>\n",
       "    </tr>\n",
       "    <tr>\n",
       "      <td>347082</td>\n",
       "      <td>7</td>\n",
       "    </tr>\n",
       "    <tr>\n",
       "      <td>347088</td>\n",
       "      <td>6</td>\n",
       "    </tr>\n",
       "    <tr>\n",
       "      <td>CA 2144</td>\n",
       "      <td>6</td>\n",
       "    </tr>\n",
       "  </tbody>\n",
       "</table>\n",
       "</div>"
      ],
      "text/plain": [
       "          PassengerId\n",
       "Ticket               \n",
       "CA. 2343            7\n",
       "1601                7\n",
       "347082              7\n",
       "347088              6\n",
       "CA 2144             6"
      ]
     },
     "execution_count": 32,
     "metadata": {},
     "output_type": "execute_result"
    }
   ],
   "source": [
    "# Summary shows that at most there are 7 tickets of the same kind\n",
    "pd.DataFrame(raw_train.groupby(\"Ticket\")[\"PassengerId\"].count().sort_values(ascending = False)) .head()"
   ]
  },
  {
   "cell_type": "markdown",
   "metadata": {},
   "source": [
    "Observation: This variable will probably be discarded in an initial analysis."
   ]
  },
  {
   "cell_type": "markdown",
   "metadata": {},
   "source": [
    "### Fare"
   ]
  },
  {
   "cell_type": "code",
   "execution_count": 33,
   "metadata": {},
   "outputs": [
    {
     "data": {
      "text/plain": [
       "248"
      ]
     },
     "execution_count": 33,
     "metadata": {},
     "output_type": "execute_result"
    }
   ],
   "source": [
    "# Unique values: shows that there are several repeated values\n",
    "len(raw_train[\"Fare\"].unique())"
   ]
  },
  {
   "cell_type": "code",
   "execution_count": 34,
   "metadata": {},
   "outputs": [
    {
     "data": {
      "text/plain": [
       "0.0"
      ]
     },
     "execution_count": 34,
     "metadata": {},
     "output_type": "execute_result"
    }
   ],
   "source": [
    "# Missing values: Not present\n",
    "round(sum(raw_train[\"Fare\"].isnull())/len(raw_train)*100, 2)"
   ]
  },
  {
   "cell_type": "code",
   "execution_count": 35,
   "metadata": {},
   "outputs": [],
   "source": [
    "# Extract Fare according to Survived\n",
    "x = raw_train.loc[raw_train[\"Survived\"] == 1, \"Fare\"]\n",
    "y = raw_train.loc[raw_train[\"Survived\"] == 0, \"Fare\"]"
   ]
  },
  {
   "cell_type": "code",
   "execution_count": 36,
   "metadata": {},
   "outputs": [
    {
     "data": {
      "image/png": "[encoded data removed]",
      "text/plain": [
       "<Figure size 432x288 with 1 Axes>"
      ]
     },
     "metadata": {
      "needs_background": "light"
     },
     "output_type": "display_data"
    }
   ],
   "source": [
    "# Histogram\n",
    "plt.hist([x,y], label = [\"Survived\", \"Died\"], color = colors)\n",
    "# Add title, legends, and axis names\n",
    "plt.legend(loc = \"upper right\")\n",
    "plt.title(\"Fare distribution for Survived vs Died\")\n",
    "plt.xlabel(\"Fare Value ($)\")\n",
    "plt.ylabel(\"Frequency\")\n",
    "plt.show()"
   ]
  },
  {
   "cell_type": "markdown",
   "metadata": {},
   "source": [
    "Observations:\n",
    "* The histogram shows the existance of some outliers to the right (either very last minute purchases or incorrectly inputed values)\n",
    "* Similarly to the Pclass analysis, survival for low fares is very low (~30%), while for more expensive fares it is greater than 50%"
   ]
  },
  {
   "cell_type": "markdown",
   "metadata": {},
   "source": [
    "### Cabin"
   ]
  },
  {
   "cell_type": "code",
   "execution_count": 37,
   "metadata": {},
   "outputs": [
    {
     "data": {
      "text/plain": [
       "148"
      ]
     },
     "execution_count": 37,
     "metadata": {},
     "output_type": "execute_result"
    }
   ],
   "source": [
    "# Unique values: shows that there are several repeated values\n",
    "len(raw_train[\"Cabin\"].unique())"
   ]
  },
  {
   "cell_type": "code",
   "execution_count": 38,
   "metadata": {},
   "outputs": [
    {
     "data": {
      "text/plain": [
       "77.1"
      ]
     },
     "execution_count": 38,
     "metadata": {},
     "output_type": "execute_result"
    }
   ],
   "source": [
    "# Missing values: 77%\n",
    "round(sum(raw_train[\"Cabin\"].isna())/len(raw_train)*100, 2)"
   ]
  },
  {
   "cell_type": "code",
   "execution_count": 39,
   "metadata": {},
   "outputs": [
    {
     "data": {
      "text/html": [
       "<div>\n",
       "<style scoped>\n",
       "    .dataframe tbody tr th:only-of-type {\n",
       "        vertical-align: middle;\n",
       "    }\n",
       "\n",
       "    .dataframe tbody tr th {\n",
       "        vertical-align: top;\n",
       "    }\n",
       "\n",
       "    .dataframe thead th {\n",
       "        text-align: right;\n",
       "    }\n",
       "</style>\n",
       "<table border=\"1\" class=\"dataframe\">\n",
       "  <thead>\n",
       "    <tr style=\"text-align: right;\">\n",
       "      <th></th>\n",
       "      <th>Null cabin value</th>\n",
       "      <th>Cabin</th>\n",
       "    </tr>\n",
       "    <tr>\n",
       "      <th>Pclass</th>\n",
       "      <th></th>\n",
       "      <th></th>\n",
       "    </tr>\n",
       "  </thead>\n",
       "  <tbody>\n",
       "    <tr>\n",
       "      <td>1</td>\n",
       "      <td>40</td>\n",
       "      <td>176</td>\n",
       "    </tr>\n",
       "    <tr>\n",
       "      <td>2</td>\n",
       "      <td>168</td>\n",
       "      <td>16</td>\n",
       "    </tr>\n",
       "    <tr>\n",
       "      <td>3</td>\n",
       "      <td>479</td>\n",
       "      <td>12</td>\n",
       "    </tr>\n",
       "  </tbody>\n",
       "</table>\n",
       "</div>"
      ],
      "text/plain": [
       "        Null cabin value  Cabin\n",
       "Pclass                         \n",
       "1                     40    176\n",
       "2                    168     16\n",
       "3                    479     12"
      ]
     },
     "execution_count": 39,
     "metadata": {},
     "output_type": "execute_result"
    }
   ],
   "source": [
    "# Generate df for plotting NAs vs Not NAs by Pclass\n",
    "df = raw_train.groupby([\"Pclass\"]).count()[[\"PassengerId\", \"Cabin\"]]\n",
    "df[\"Null cabin value\"] = df[\"PassengerId\"] - df[\"Cabin\"]\n",
    "df = df[[\"Null cabin value\", \"Cabin\"]]\n",
    "df"
   ]
  },
  {
   "cell_type": "code",
   "execution_count": 40,
   "metadata": {},
   "outputs": [
    {
     "data": {
      "image/png": "[encoded data removed]",
      "text/plain": [
       "<Figure size 720x360 with 1 Axes>"
      ]
     },
     "metadata": {
      "needs_background": "light"
     },
     "output_type": "display_data"
    }
   ],
   "source": [
    "# Plot a stacked bar chart\n",
    "ax = df.plot(stacked = True, kind = 'bar', figsize = (10, 5), color = [\"silver\", \"grey\"], edgecolor = 'white')\n",
    "\n",
    "# Set no rotation in axis labels\n",
    "plt.xticks(rotation=0)\n",
    "\n",
    "# Set axis names and labels\n",
    "plt.xlabel(var)\n",
    "plt.xticks(np.arange(len(df)), df.index)\n",
    "plt.ylabel(\"Frequency\")\n",
    "\n",
    "# Locate each rectangle in the plot's patches (objects)\n",
    "for rect in ax.patches:\n",
    "    \n",
    "    # Find where each rectangle is located\n",
    "    height = rect.get_height()\n",
    "    width = rect.get_width()\n",
    "    \n",
    "    # Get coordinates\n",
    "    x = rect.get_x()\n",
    "    y = rect.get_y()\n",
    "    \n",
    "    # The frequency is represented by the height of each rectangle, and it's what we want to show\n",
    "    label_text = height\n",
    "    \n",
    "    # Assign position of the label\n",
    "    label_x = x + width/2\n",
    "    label_y = y + height/2\n",
    "    \n",
    "    # Add text label\n",
    "    ax.text(label_x, label_y, label_text, ha = 'center', va = 'center', fontsize = 14, fontweight = \"bold\", color = \"white\")\n",
    "\n",
    "# Show plot\n",
    "plt.show()"
   ]
  },
  {
   "cell_type": "markdown",
   "metadata": {},
   "source": [
    "Observations:\n",
    "* Cabin number is 77% missing, but it might mean that some passengers did not have a cabin, and not that their cabin number is missing\n",
    "* This is further supported by the fact that almost all 1st class passengers have a cabin number, while 2nd and 3rd class don't\n",
    "* It would be better to replace NAs whith something rather than eliminating this variable"
   ]
  },
  {
   "cell_type": "markdown",
   "metadata": {},
   "source": [
    "### Embarked"
   ]
  },
  {
   "cell_type": "code",
   "execution_count": 41,
   "metadata": {},
   "outputs": [
    {
     "data": {
      "text/plain": [
       "array(['S', 'C', 'Q', nan], dtype=object)"
      ]
     },
     "execution_count": 41,
     "metadata": {},
     "output_type": "execute_result"
    }
   ],
   "source": [
    "# Unique values\n",
    "raw_train[\"Embarked\"].unique()"
   ]
  },
  {
   "cell_type": "code",
   "execution_count": 42,
   "metadata": {
    "scrolled": true
   },
   "outputs": [
    {
     "data": {
      "text/plain": [
       "0.22"
      ]
     },
     "execution_count": 42,
     "metadata": {},
     "output_type": "execute_result"
    }
   ],
   "source": [
    "# Missing values\n",
    "round(sum(raw_train[\"Embarked\"].isna())/len(raw_train)*100, 2)"
   ]
  },
  {
   "cell_type": "code",
   "execution_count": 43,
   "metadata": {},
   "outputs": [
    {
     "data": {
      "text/html": [
       "<div>\n",
       "<style scoped>\n",
       "    .dataframe tbody tr th:only-of-type {\n",
       "        vertical-align: middle;\n",
       "    }\n",
       "\n",
       "    .dataframe tbody tr th {\n",
       "        vertical-align: top;\n",
       "    }\n",
       "\n",
       "    .dataframe thead th {\n",
       "        text-align: right;\n",
       "    }\n",
       "</style>\n",
       "<table border=\"1\" class=\"dataframe\">\n",
       "  <thead>\n",
       "    <tr style=\"text-align: right;\">\n",
       "      <th></th>\n",
       "      <th>Embarked</th>\n",
       "      <th>Survived</th>\n",
       "      <th>Died</th>\n",
       "    </tr>\n",
       "  </thead>\n",
       "  <tbody>\n",
       "    <tr>\n",
       "      <td>0</td>\n",
       "      <td>C</td>\n",
       "      <td>93</td>\n",
       "      <td>75</td>\n",
       "    </tr>\n",
       "    <tr>\n",
       "      <td>1</td>\n",
       "      <td>Q</td>\n",
       "      <td>30</td>\n",
       "      <td>47</td>\n",
       "    </tr>\n",
       "    <tr>\n",
       "      <td>2</td>\n",
       "      <td>S</td>\n",
       "      <td>217</td>\n",
       "      <td>427</td>\n",
       "    </tr>\n",
       "  </tbody>\n",
       "</table>\n",
       "</div>"
      ],
      "text/plain": [
       "  Embarked  Survived  Died\n",
       "0        C        93    75\n",
       "1        Q        30    47\n",
       "2        S       217   427"
      ]
     },
     "execution_count": 43,
     "metadata": {},
     "output_type": "execute_result"
    }
   ],
   "source": [
    "# Create dataframe for plot\n",
    "# Select variable for analysis\n",
    "var = \"Embarked\"\n",
    "# Generate dataframe grouping by the variable of interest\n",
    "df = raw_train.groupby([var], as_index = False).sum()\n",
    "# Create the variable \"Died\" by substracting survivals from total passengers\n",
    "df[\"Died\"] = raw_train.groupby([var], as_index = False).sum()[\"Train\"] - raw_train.groupby([var], as_index = False).sum()[\"Survived\"]\n",
    "# Extract only variables of interest\n",
    "df = df.loc[:,[var, \"Survived\", \"Died\"]]\n",
    "# Visualize resulting df\n",
    "df"
   ]
  },
  {
   "cell_type": "code",
   "execution_count": 44,
   "metadata": {},
   "outputs": [
    {
     "data": {
      "image/png": "[encoded data removed]",
      "text/plain": [
       "<Figure size 720x360 with 1 Axes>"
      ]
     },
     "metadata": {
      "needs_background": "light"
     },
     "output_type": "display_data"
    }
   ],
   "source": [
    "# Plot a stacked bar chart\n",
    "ax = df[[\"Survived\", \"Died\"]].plot(stacked = True, kind = 'bar', figsize = (10, 5), color = colors, edgecolor = 'white',)\n",
    "\n",
    "# Set no rotation in axis labels\n",
    "plt.xticks(rotation=0)\n",
    "\n",
    "# Set axis names and labels\n",
    "plt.xlabel(var)\n",
    "plt.xticks(np.arange(len(df)), df[var])\n",
    "plt.ylabel(\"Frequency\")\n",
    "\n",
    "# Locate each rectangle in the plot's patches (objects)\n",
    "for rect in ax.patches:\n",
    "    \n",
    "    # Find where each rectangle is located\n",
    "    height = rect.get_height()\n",
    "    width = rect.get_width()\n",
    "    \n",
    "    # Get coordinates\n",
    "    x = rect.get_x()\n",
    "    y = rect.get_y()\n",
    "    \n",
    "    # The frequency is represented by the height of each rectangle, and it's what we want to show\n",
    "    label_text = height\n",
    "    \n",
    "    # Assign position of the label\n",
    "    label_x = x + width/2\n",
    "    label_y = y + height/2\n",
    "    \n",
    "    # Add text label\n",
    "    ax.text(label_x, label_y, label_text, ha = 'center', va = 'center', fontsize = 14, fontweight = \"bold\", color = \"white\")\n",
    "\n",
    "# Show plot\n",
    "plt.show()"
   ]
  },
  {
   "cell_type": "markdown",
   "metadata": {},
   "source": [
    "Observations:\n",
    "* Most people embarked at S\n",
    "* For them, survival was ~30%\n",
    "* For the other two ports, survival was around ~50%\n",
    "* It might hide some useful information about the people (students, workers, etc)\n",
    "* NAs representing 22% should therefore be replaced, rather than eliminating the whole column"
   ]
  },
  {
   "cell_type": "markdown",
   "metadata": {},
   "source": [
    "## Missing value imputation"
   ]
  },
  {
   "cell_type": "code",
   "execution_count": 45,
   "metadata": {},
   "outputs": [],
   "source": [
    "# Group variables according to their use\n",
    "predictors = [\"Age\", \"Cabin\", \"Embarked\", \"Fare\", \"Parch\", \"Pclass\", \"Sex\", \"SibSp\"]\n",
    "target = [\"Survived\"]\n",
    "drop_var = ['PassengerId', 'Name', 'Ticket']"
   ]
  },
  {
   "cell_type": "code",
   "execution_count": 46,
   "metadata": {},
   "outputs": [
    {
     "name": "stdout",
     "output_type": "stream",
     "text": [
      "Age 263\n",
      "Cabin 1014\n",
      "Embarked 2\n",
      "Fare 1\n",
      "Parch 0\n",
      "Pclass 0\n",
      "Sex 0\n",
      "SibSp 0\n"
     ]
    }
   ],
   "source": [
    "# Visualize missing values per column\n",
    "for col in raw_combined[predictors]:\n",
    "    print(col, sum(raw_combined[col].isna()))"
   ]
  },
  {
   "cell_type": "markdown",
   "metadata": {},
   "source": [
    "### Age"
   ]
  },
  {
   "cell_type": "code",
   "execution_count": 47,
   "metadata": {},
   "outputs": [
    {
     "data": {
      "text/plain": [
       "28.0"
      ]
     },
     "execution_count": 47,
     "metadata": {},
     "output_type": "execute_result"
    }
   ],
   "source": [
    "# Median age in Train set\n",
    "raw_combined.loc[(raw_combined[\"Train\"] == 1), \"Age\"].median()"
   ]
  },
  {
   "cell_type": "code",
   "execution_count": 48,
   "metadata": {},
   "outputs": [],
   "source": [
    "# Replace missing values by median in TRAIN set\n",
    "raw_combined.loc[raw_combined[\"Age\"].isna(), \"Age\"] = raw_combined.loc[(raw_combined[\"Train\"] == 1), \"Age\"].median()"
   ]
  },
  {
   "cell_type": "markdown",
   "metadata": {},
   "source": [
    "### Cabin"
   ]
  },
  {
   "cell_type": "code",
   "execution_count": 49,
   "metadata": {},
   "outputs": [],
   "source": [
    "# Replace missing values by the word \"NO\"\n",
    "raw_combined.loc[raw_combined[\"Cabin\"].isna(), \"Cabin\"] = \"NO\""
   ]
  },
  {
   "cell_type": "markdown",
   "metadata": {},
   "source": [
    "### Embarked"
   ]
  },
  {
   "cell_type": "code",
   "execution_count": 50,
   "metadata": {},
   "outputs": [],
   "source": [
    "# Replace missing values by the word \"NO\"\n",
    "raw_combined.loc[raw_combined[\"Embarked\"].isna(), \"Embarked\"] = \"NO\""
   ]
  },
  {
   "cell_type": "markdown",
   "metadata": {},
   "source": [
    "### Fare"
   ]
  },
  {
   "cell_type": "code",
   "execution_count": 51,
   "metadata": {},
   "outputs": [
    {
     "data": {
      "text/plain": [
       "33.2954792813456"
      ]
     },
     "execution_count": 51,
     "metadata": {},
     "output_type": "execute_result"
    }
   ],
   "source": [
    "# Find mean fare\n",
    "raw_combined[\"Fare\"].mean()"
   ]
  },
  {
   "cell_type": "code",
   "execution_count": 52,
   "metadata": {},
   "outputs": [],
   "source": [
    "# Replace missing values by the mean fare\n",
    "raw_combined.loc[raw_combined[\"Fare\"].isna(), \"Fare\"] = raw_combined[\"Fare\"].mean()"
   ]
  },
  {
   "cell_type": "markdown",
   "metadata": {},
   "source": [
    "## Summary of correlations and distributions"
   ]
  },
  {
   "cell_type": "code",
   "execution_count": 53,
   "metadata": {},
   "outputs": [],
   "source": [
    "# Select variables to plot (include target and all predictors except Cabin, that takes on too many values)\n",
    "plot_vars = [\"Survived\", \"Age\", \"Embarked\", \"Fare\", \"Parch\", \"Pclass\", \"Sex\", \"SibSp\"]"
   ]
  },
  {
   "cell_type": "code",
   "execution_count": 54,
   "metadata": {},
   "outputs": [
    {
     "data": {
      "image/png": "[encoded data removed]",
      "text/plain": [
       "<Figure size 1080x1080 with 42 Axes>"
      ]
     },
     "metadata": {
      "needs_background": "light"
     },
     "output_type": "display_data"
    }
   ],
   "source": [
    "## Correlogram in Train Set\n",
    "sns.pairplot(raw_combined.loc[raw_combined[\"Train\"] == 1, plot_vars])\n",
    "plt.show()"
   ]
  },
  {
   "cell_type": "markdown",
   "metadata": {},
   "source": [
    "Obervations:\n",
    "* Fare vs Age plot (bell shaped) shows that most expensive trips were paid by adults of about 40 years\n",
    "* Fare vs Pclass shows the obvious fact that 1st class costed more than 2nd and 3rd\n",
    "* Fare vs Parch and vs SibSp shows that more expensive fares were paid by people travelling alone or with few companions (big families paid low fares)\n",
    "* SibSp vs Age shows that the more SibSp, the younger the person tends to be (probably indicating big families with children) "
   ]
  },
  {
   "cell_type": "markdown",
   "metadata": {},
   "source": [
    "## Save trasformed dataset"
   ]
  },
  {
   "cell_type": "code",
   "execution_count": 55,
   "metadata": {},
   "outputs": [],
   "source": [
    "# Save transformed dataset for modelling phases\n",
    "raw_combined.to_csv(\"../Data/raw_combined.csv\")"
   ]
  },
  {
   "cell_type": "code",
   "execution_count": null,
   "metadata": {},
   "outputs": [],
   "source": []
  }
 ],
 "metadata": {
  "kernelspec": {
   "display_name": "Python 3",
   "language": "python",
   "name": "python3"
  },
  "language_info": {
   "codemirror_mode": {
    "name": "ipython",
    "version": 3
   },
   "file_extension": ".py",
   "mimetype": "text/x-python",
   "name": "python",
   "nbconvert_exporter": "python",
   "pygments_lexer": "ipython3",
   "version": "3.7.4"
  }
 },
 "nbformat": 4,
 "nbformat_minor": 2
}
